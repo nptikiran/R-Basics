{
 "cells": [
  {
   "cell_type": "markdown",
   "metadata": {},
   "source": [
    "<h1 align=center>R BASICS</h1> "
   ]
  },
  {
   "cell_type": "markdown",
   "metadata": {},
   "source": [
    "<h2 align=center> Simple Math in R </h2>"
   ]
  },
  {
   "cell_type": "code",
   "execution_count": 5,
   "metadata": {},
   "outputs": [
    {
     "data": {
      "text/html": [
       "251"
      ],
      "text/latex": [
       "251"
      ],
      "text/markdown": [
       "251"
      ],
      "text/plain": [
       "[1] 251"
      ]
     },
     "metadata": {},
     "output_type": "display_data"
    }
   ],
   "source": [
    "130+121"
   ]
  },
  {
   "cell_type": "code",
   "execution_count": 7,
   "metadata": {},
   "outputs": [
    {
     "data": {
      "text/html": [
       "4.18333333333333"
      ],
      "text/latex": [
       "4.18333333333333"
      ],
      "text/markdown": [
       "4.18333333333333"
      ],
      "text/plain": [
       "[1] 4.183333"
      ]
     },
     "metadata": {},
     "output_type": "display_data"
    }
   ],
   "source": [
    "251/60 # hours Converted into hours"
   ]
  },
  {
   "cell_type": "code",
   "execution_count": 8,
   "metadata": {},
   "outputs": [],
   "source": [
    "x <- 130+121"
   ]
  },
  {
   "cell_type": "code",
   "execution_count": 9,
   "metadata": {},
   "outputs": [
    {
     "data": {
      "text/html": [
       "251"
      ],
      "text/latex": [
       "251"
      ],
      "text/markdown": [
       "251"
      ],
      "text/plain": [
       "[1] 251"
      ]
     },
     "metadata": {},
     "output_type": "display_data"
    }
   ],
   "source": [
    "x"
   ]
  },
  {
   "cell_type": "code",
   "execution_count": 11,
   "metadata": {},
   "outputs": [
    {
     "data": {
      "text/html": [
       "4.18333333333333"
      ],
      "text/latex": [
       "4.18333333333333"
      ],
      "text/markdown": [
       "4.18333333333333"
      ],
      "text/plain": [
       "[1] 4.183333"
      ]
     },
     "metadata": {},
     "output_type": "display_data"
    }
   ],
   "source": [
    "y <- x / 60\n",
    "y"
   ]
  },
  {
   "cell_type": "code",
   "execution_count": 12,
   "metadata": {},
   "outputs": [
    {
     "data": {
      "text/html": [
       "4.18333333333333"
      ],
      "text/latex": [
       "4.18333333333333"
      ],
      "text/markdown": [
       "4.18333333333333"
      ],
      "text/plain": [
       "[1] 4.183333"
      ]
     },
     "metadata": {},
     "output_type": "display_data"
    }
   ],
   "source": [
    "x <- x/60\n",
    "x"
   ]
  },
  {
   "cell_type": "code",
   "execution_count": 13,
   "metadata": {},
   "outputs": [
    {
     "data": {
      "text/html": [
       "251"
      ],
      "text/latex": [
       "251"
      ],
      "text/markdown": [
       "251"
      ],
      "text/plain": [
       "[1] 251"
      ]
     },
     "metadata": {},
     "output_type": "display_data"
    }
   ],
   "source": [
    "total <- 130+121\n",
    "total"
   ]
  },
  {
   "cell_type": "code",
   "execution_count": 14,
   "metadata": {},
   "outputs": [
    {
     "data": {
      "text/html": [
       "4.18333333333333"
      ],
      "text/latex": [
       "4.18333333333333"
      ],
      "text/markdown": [
       "4.18333333333333"
      ],
      "text/plain": [
       "[1] 4.183333"
      ]
     },
     "metadata": {},
     "output_type": "display_data"
    }
   ],
   "source": [
    "total_hr <- total/60\n",
    "total_hr"
   ]
  },
  {
   "cell_type": "code",
   "execution_count": 15,
   "metadata": {},
   "outputs": [
    {
     "data": {
      "text/html": [
       "4.18333333333333"
      ],
      "text/latex": [
       "4.18333333333333"
      ],
      "text/markdown": [
       "4.18333333333333"
      ],
      "text/plain": [
       "[1] 4.183333"
      ]
     },
     "metadata": {},
     "output_type": "display_data"
    }
   ],
   "source": [
    "total_hr <- (130+121)/60\n",
    "total_hr"
   ]
  },
  {
   "cell_type": "markdown",
   "metadata": {},
   "source": [
    "<h2 align=center>Vectors in R</h2>"
   ]
  },
  {
   "cell_type": "code",
   "execution_count": 16,
   "metadata": {},
   "outputs": [
    {
     "data": {
      "text/html": [
       "<ol class=list-inline>\n",
       "\t<li>1.35</li>\n",
       "\t<li>2.08333333333333</li>\n",
       "</ol>\n"
      ],
      "text/latex": [
       "\\begin{enumerate*}\n",
       "\\item 1.35\n",
       "\\item 2.08333333333333\n",
       "\\end{enumerate*}\n"
      ],
      "text/markdown": [
       "1. 1.35\n",
       "2. 2.08333333333333\n",
       "\n",
       "\n"
      ],
      "text/plain": [
       "[1] 1.350000 2.083333"
      ]
     },
     "metadata": {},
     "output_type": "display_data"
    }
   ],
   "source": [
    "c(81,125)/60  # c function for combine"
   ]
  },
  {
   "cell_type": "code",
   "execution_count": 18,
   "metadata": {},
   "outputs": [
    {
     "data": {
      "text/html": [
       "<ol class=list-inline>\n",
       "\t<li>1.35</li>\n",
       "\t<li>2.08333333333333</li>\n",
       "</ol>\n"
      ],
      "text/latex": [
       "\\begin{enumerate*}\n",
       "\\item 1.35\n",
       "\\item 2.08333333333333\n",
       "\\end{enumerate*}\n"
      ],
      "text/markdown": [
       "1. 1.35\n",
       "2. 2.08333333333333\n",
       "\n",
       "\n"
      ],
      "text/plain": [
       "[1] 1.350000 2.083333"
      ]
     },
     "metadata": {},
     "output_type": "display_data"
    }
   ],
   "source": [
    "ratings <- c(81,125)\n",
    "ratings/60"
   ]
  },
  {
   "cell_type": "code",
   "execution_count": 19,
   "metadata": {},
   "outputs": [
    {
     "data": {
      "text/html": [
       "<ol class=list-inline>\n",
       "\t<li>1</li>\n",
       "\t<li>2</li>\n",
       "\t<li>3</li>\n",
       "\t<li>4</li>\n",
       "\t<li>5</li>\n",
       "\t<li>6</li>\n",
       "\t<li>7</li>\n",
       "\t<li>8</li>\n",
       "\t<li>9</li>\n",
       "\t<li>10</li>\n",
       "</ol>\n"
      ],
      "text/latex": [
       "\\begin{enumerate*}\n",
       "\\item 1\n",
       "\\item 2\n",
       "\\item 3\n",
       "\\item 4\n",
       "\\item 5\n",
       "\\item 6\n",
       "\\item 7\n",
       "\\item 8\n",
       "\\item 9\n",
       "\\item 10\n",
       "\\end{enumerate*}\n"
      ],
      "text/markdown": [
       "1. 1\n",
       "2. 2\n",
       "3. 3\n",
       "4. 4\n",
       "5. 5\n",
       "6. 6\n",
       "7. 7\n",
       "8. 8\n",
       "9. 9\n",
       "10. 10\n",
       "\n",
       "\n"
      ],
      "text/plain": [
       " [1]  1  2  3  4  5  6  7  8  9 10"
      ]
     },
     "metadata": {},
     "output_type": "display_data"
    },
    {
     "data": {
      "text/html": [
       "<ol class=list-inline>\n",
       "\t<li>1</li>\n",
       "\t<li>2</li>\n",
       "\t<li>3</li>\n",
       "\t<li>4</li>\n",
       "\t<li>5</li>\n",
       "\t<li>6</li>\n",
       "\t<li>7</li>\n",
       "\t<li>8</li>\n",
       "\t<li>9</li>\n",
       "\t<li>10</li>\n",
       "</ol>\n"
      ],
      "text/latex": [
       "\\begin{enumerate*}\n",
       "\\item 1\n",
       "\\item 2\n",
       "\\item 3\n",
       "\\item 4\n",
       "\\item 5\n",
       "\\item 6\n",
       "\\item 7\n",
       "\\item 8\n",
       "\\item 9\n",
       "\\item 10\n",
       "\\end{enumerate*}\n"
      ],
      "text/markdown": [
       "1. 1\n",
       "2. 2\n",
       "3. 3\n",
       "4. 4\n",
       "5. 5\n",
       "6. 6\n",
       "7. 7\n",
       "8. 8\n",
       "9. 9\n",
       "10. 10\n",
       "\n",
       "\n"
      ],
      "text/plain": [
       " [1]  1  2  3  4  5  6  7  8  9 10"
      ]
     },
     "metadata": {},
     "output_type": "display_data"
    }
   ],
   "source": [
    "c(1, 2, 3, 4, 5, 6, 7, 8, 9, 10)\n",
    "c(1:10)"
   ]
  },
  {
   "cell_type": "code",
   "execution_count": 20,
   "metadata": {},
   "outputs": [
    {
     "data": {
      "text/html": [
       "<ol class=list-inline>\n",
       "\t<li>1</li>\n",
       "\t<li>2</li>\n",
       "\t<li>3</li>\n",
       "\t<li>4</li>\n",
       "\t<li>5</li>\n",
       "\t<li>6</li>\n",
       "\t<li>7</li>\n",
       "\t<li>8</li>\n",
       "\t<li>9</li>\n",
       "\t<li>10</li>\n",
       "</ol>\n"
      ],
      "text/latex": [
       "\\begin{enumerate*}\n",
       "\\item 1\n",
       "\\item 2\n",
       "\\item 3\n",
       "\\item 4\n",
       "\\item 5\n",
       "\\item 6\n",
       "\\item 7\n",
       "\\item 8\n",
       "\\item 9\n",
       "\\item 10\n",
       "\\end{enumerate*}\n"
      ],
      "text/markdown": [
       "1. 1\n",
       "2. 2\n",
       "3. 3\n",
       "4. 4\n",
       "5. 5\n",
       "6. 6\n",
       "7. 7\n",
       "8. 8\n",
       "9. 9\n",
       "10. 10\n",
       "\n",
       "\n"
      ],
      "text/plain": [
       " [1]  1  2  3  4  5  6  7  8  9 10"
      ]
     },
     "metadata": {},
     "output_type": "display_data"
    }
   ],
   "source": [
    "c(1:10)"
   ]
  },
  {
   "cell_type": "markdown",
   "metadata": {},
   "source": [
    "<h2 align=center>String in R</h2>"
   ]
  },
  {
   "cell_type": "code",
   "execution_count": 21,
   "metadata": {},
   "outputs": [
    {
     "data": {
      "text/html": [
       "'Toy Story'"
      ],
      "text/latex": [
       "'Toy Story'"
      ],
      "text/markdown": [
       "'Toy Story'"
      ],
      "text/plain": [
       "[1] \"Toy Story\""
      ]
     },
     "metadata": {},
     "output_type": "display_data"
    }
   ],
   "source": [
    "movie <- \"Toy Story\"\n",
    "movie"
   ]
  },
  {
   "cell_type": "code",
   "execution_count": 22,
   "metadata": {},
   "outputs": [
    {
     "data": {
      "text/html": [
       "<ol class=list-inline>\n",
       "\t<li>'Animation'</li>\n",
       "\t<li>'Comedy'</li>\n",
       "\t<li>'Biography'</li>\n",
       "\t<li>'Horror'</li>\n",
       "\t<li>'Romance'</li>\n",
       "\t<li>'Sci-fi'</li>\n",
       "</ol>\n"
      ],
      "text/latex": [
       "\\begin{enumerate*}\n",
       "\\item 'Animation'\n",
       "\\item 'Comedy'\n",
       "\\item 'Biography'\n",
       "\\item 'Horror'\n",
       "\\item 'Romance'\n",
       "\\item 'Sci-fi'\n",
       "\\end{enumerate*}\n"
      ],
      "text/markdown": [
       "1. 'Animation'\n",
       "2. 'Comedy'\n",
       "3. 'Biography'\n",
       "4. 'Horror'\n",
       "5. 'Romance'\n",
       "6. 'Sci-fi'\n",
       "\n",
       "\n"
      ],
      "text/plain": [
       "[1] \"Animation\" \"Comedy\"    \"Biography\" \"Horror\"    \"Romance\"   \"Sci-fi\"   "
      ]
     },
     "metadata": {},
     "output_type": "display_data"
    }
   ],
   "source": [
    "genres <- c(\"Animation\", \"Comedy\", \"Biography\", \"Horror\", \"Romance\", \"Sci-fi\")\n",
    "genres"
   ]
  },
  {
   "cell_type": "markdown",
   "metadata": {},
   "source": [
    "<h2 align=center>Vectors And Factors<\\h2>"
   ]
  },
  {
   "cell_type": "markdown",
   "metadata": {},
   "source": [
    "<img src = \"https://ibm.box.com/shared/static/6kr8sg0n6pc40zd1xn6hjhtvy3k7cmeq.png\" width = 90% align=\"left\">"
   ]
  },
  {
   "cell_type": "markdown",
   "metadata": {},
   "source": [
    "<h2 align=center>VECTORS</h2>"
   ]
  },
  {
   "cell_type": "code",
   "execution_count": 26,
   "metadata": {},
   "outputs": [
    {
     "data": {
      "text/html": [
       "<ol class=list-inline>\n",
       "\t<li>1985</li>\n",
       "\t<li>1999</li>\n",
       "\t<li>2015</li>\n",
       "\t<li>1964</li>\n",
       "</ol>\n"
      ],
      "text/latex": [
       "\\begin{enumerate*}\n",
       "\\item 1985\n",
       "\\item 1999\n",
       "\\item 2015\n",
       "\\item 1964\n",
       "\\end{enumerate*}\n"
      ],
      "text/markdown": [
       "1. 1985\n",
       "2. 1999\n",
       "3. 2015\n",
       "4. 1964\n",
       "\n",
       "\n"
      ],
      "text/plain": [
       "[1] 1985 1999 2015 1964"
      ]
     },
     "metadata": {},
     "output_type": "display_data"
    }
   ],
   "source": [
    "release_yr <- c(1985, 1999, 2015, 1964)\n",
    "release_yr"
   ]
  },
  {
   "cell_type": "code",
   "execution_count": 29,
   "metadata": {},
   "outputs": [
    {
     "data": {
      "text/html": [
       "<ol class=list-inline>\n",
       "\t<li>'Toy Story'</li>\n",
       "\t<li>'Akira'</li>\n",
       "\t<li>'The Breakfast Club'</li>\n",
       "</ol>\n"
      ],
      "text/latex": [
       "\\begin{enumerate*}\n",
       "\\item 'Toy Story'\n",
       "\\item 'Akira'\n",
       "\\item 'The Breakfast Club'\n",
       "\\end{enumerate*}\n"
      ],
      "text/markdown": [
       "1. 'Toy Story'\n",
       "2. 'Akira'\n",
       "3. 'The Breakfast Club'\n",
       "\n",
       "\n"
      ],
      "text/plain": [
       "[1] \"Toy Story\"          \"Akira\"              \"The Breakfast Club\""
      ]
     },
     "metadata": {},
     "output_type": "display_data"
    }
   ],
   "source": [
    "# Create genre vector and assign values to it \n",
    "titles <- c(\"Toy Story\", \"Akira\", \"The Breakfast Club\")\n",
    "titles"
   ]
  },
  {
   "cell_type": "code",
   "execution_count": 30,
   "metadata": {},
   "outputs": [
    {
     "data": {
      "text/html": [
       "<ol class=list-inline>\n",
       "\t<li>FALSE</li>\n",
       "\t<li>TRUE</li>\n",
       "\t<li>FALSE</li>\n",
       "</ol>\n"
      ],
      "text/latex": [
       "\\begin{enumerate*}\n",
       "\\item FALSE\n",
       "\\item TRUE\n",
       "\\item FALSE\n",
       "\\end{enumerate*}\n"
      ],
      "text/markdown": [
       "1. FALSE\n",
       "2. TRUE\n",
       "3. FALSE\n",
       "\n",
       "\n"
      ],
      "text/plain": [
       "[1] FALSE  TRUE FALSE"
      ]
     },
     "metadata": {},
     "output_type": "display_data"
    }
   ],
   "source": [
    "# Logical vectors(TRUE,FALSE OR T ,F)\n",
    "titles == 'Akira'"
   ]
  },
  {
   "cell_type": "markdown",
   "metadata": {},
   "source": [
    "<h2 align=center>Vector Operations<\\h2>"
   ]
  },
  {
   "cell_type": "code",
   "execution_count": 31,
   "metadata": {},
   "outputs": [
    {
     "data": {
      "text/html": [
       "<ol class=list-inline>\n",
       "\t<li>1985</li>\n",
       "\t<li>1999</li>\n",
       "\t<li>2015</li>\n",
       "\t<li>1964</li>\n",
       "\t<li>2016</li>\n",
       "\t<li>2017</li>\n",
       "\t<li>2018</li>\n",
       "</ol>\n"
      ],
      "text/latex": [
       "\\begin{enumerate*}\n",
       "\\item 1985\n",
       "\\item 1999\n",
       "\\item 2015\n",
       "\\item 1964\n",
       "\\item 2016\n",
       "\\item 2017\n",
       "\\item 2018\n",
       "\\end{enumerate*}\n"
      ],
      "text/markdown": [
       "1. 1985\n",
       "2. 1999\n",
       "3. 2015\n",
       "4. 1964\n",
       "5. 2016\n",
       "6. 2017\n",
       "7. 2018\n",
       "\n",
       "\n"
      ],
      "text/plain": [
       "[1] 1985 1999 2015 1964 2016 2017 2018"
      ]
     },
     "metadata": {},
     "output_type": "display_data"
    }
   ],
   "source": [
    "# Adding element\n",
    "release_yr <- c(release_yr,2016:2018)\n",
    "release_yr"
   ]
  },
  {
   "cell_type": "code",
   "execution_count": 32,
   "metadata": {},
   "outputs": [
    {
     "data": {
      "text/html": [
       "7"
      ],
      "text/latex": [
       "7"
      ],
      "text/markdown": [
       "7"
      ],
      "text/plain": [
       "[1] 7"
      ]
     },
     "metadata": {},
     "output_type": "display_data"
    }
   ],
   "source": [
    "# Length of vector\n",
    "length(release_yr)"
   ]
  },
  {
   "cell_type": "markdown",
   "metadata": {},
   "source": [
    "\n",
    "### Head and Tail of vector\n"
   ]
  },
  {
   "cell_type": "code",
   "execution_count": 33,
   "metadata": {},
   "outputs": [
    {
     "data": {
      "text/html": [
       "<ol class=list-inline>\n",
       "\t<li>1985</li>\n",
       "\t<li>1999</li>\n",
       "\t<li>2015</li>\n",
       "\t<li>1964</li>\n",
       "\t<li>2016</li>\n",
       "\t<li>2017</li>\n",
       "</ol>\n"
      ],
      "text/latex": [
       "\\begin{enumerate*}\n",
       "\\item 1985\n",
       "\\item 1999\n",
       "\\item 2015\n",
       "\\item 1964\n",
       "\\item 2016\n",
       "\\item 2017\n",
       "\\end{enumerate*}\n"
      ],
      "text/markdown": [
       "1. 1985\n",
       "2. 1999\n",
       "3. 2015\n",
       "4. 1964\n",
       "5. 2016\n",
       "6. 2017\n",
       "\n",
       "\n"
      ],
      "text/plain": [
       "[1] 1985 1999 2015 1964 2016 2017"
      ]
     },
     "metadata": {},
     "output_type": "display_data"
    }
   ],
   "source": [
    "head(release_yr)  # show First six element"
   ]
  },
  {
   "cell_type": "code",
   "execution_count": 34,
   "metadata": {},
   "outputs": [
    {
     "data": {
      "text/html": [
       "<ol class=list-inline>\n",
       "\t<li>1985</li>\n",
       "\t<li>1999</li>\n",
       "</ol>\n"
      ],
      "text/latex": [
       "\\begin{enumerate*}\n",
       "\\item 1985\n",
       "\\item 1999\n",
       "\\end{enumerate*}\n"
      ],
      "text/markdown": [
       "1. 1985\n",
       "2. 1999\n",
       "\n",
       "\n"
      ],
      "text/plain": [
       "[1] 1985 1999"
      ]
     },
     "metadata": {},
     "output_type": "display_data"
    }
   ],
   "source": [
    "head(release_yr, n = 2)  # shows first two element"
   ]
  },
  {
   "cell_type": "code",
   "execution_count": 35,
   "metadata": {},
   "outputs": [
    {
     "data": {
      "text/html": [
       "<ol class=list-inline>\n",
       "\t<li>1999</li>\n",
       "\t<li>2015</li>\n",
       "\t<li>1964</li>\n",
       "\t<li>2016</li>\n",
       "\t<li>2017</li>\n",
       "\t<li>2018</li>\n",
       "</ol>\n"
      ],
      "text/latex": [
       "\\begin{enumerate*}\n",
       "\\item 1999\n",
       "\\item 2015\n",
       "\\item 1964\n",
       "\\item 2016\n",
       "\\item 2017\n",
       "\\item 2018\n",
       "\\end{enumerate*}\n"
      ],
      "text/markdown": [
       "1. 1999\n",
       "2. 2015\n",
       "3. 1964\n",
       "4. 2016\n",
       "5. 2017\n",
       "6. 2018\n",
       "\n",
       "\n"
      ],
      "text/plain": [
       "[1] 1999 2015 1964 2016 2017 2018"
      ]
     },
     "metadata": {},
     "output_type": "display_data"
    }
   ],
   "source": [
    "tail(release_yr)  # shows last six element"
   ]
  },
  {
   "cell_type": "code",
   "execution_count": 36,
   "metadata": {},
   "outputs": [
    {
     "data": {
      "text/html": [
       "<ol class=list-inline>\n",
       "\t<li>2017</li>\n",
       "\t<li>2018</li>\n",
       "</ol>\n"
      ],
      "text/latex": [
       "\\begin{enumerate*}\n",
       "\\item 2017\n",
       "\\item 2018\n",
       "\\end{enumerate*}\n"
      ],
      "text/markdown": [
       "1. 2017\n",
       "2. 2018\n",
       "\n",
       "\n"
      ],
      "text/plain": [
       "[1] 2017 2018"
      ]
     },
     "metadata": {},
     "output_type": "display_data"
    }
   ],
   "source": [
    "tail(release_yr,2)  # shows last two element"
   ]
  },
  {
   "cell_type": "markdown",
   "metadata": {},
   "source": [
    "### Sorting a Vector"
   ]
  },
  {
   "cell_type": "code",
   "execution_count": 37,
   "metadata": {},
   "outputs": [
    {
     "data": {
      "text/html": [
       "<ol class=list-inline>\n",
       "\t<li>1964</li>\n",
       "\t<li>1985</li>\n",
       "\t<li>1999</li>\n",
       "\t<li>2015</li>\n",
       "\t<li>2016</li>\n",
       "\t<li>2017</li>\n",
       "\t<li>2018</li>\n",
       "</ol>\n"
      ],
      "text/latex": [
       "\\begin{enumerate*}\n",
       "\\item 1964\n",
       "\\item 1985\n",
       "\\item 1999\n",
       "\\item 2015\n",
       "\\item 2016\n",
       "\\item 2017\n",
       "\\item 2018\n",
       "\\end{enumerate*}\n"
      ],
      "text/markdown": [
       "1. 1964\n",
       "2. 1985\n",
       "3. 1999\n",
       "4. 2015\n",
       "5. 2016\n",
       "6. 2017\n",
       "7. 2018\n",
       "\n",
       "\n"
      ],
      "text/plain": [
       "[1] 1964 1985 1999 2015 2016 2017 2018"
      ]
     },
     "metadata": {},
     "output_type": "display_data"
    }
   ],
   "source": [
    "sort(release_yr)"
   ]
  },
  {
   "cell_type": "code",
   "execution_count": 38,
   "metadata": {},
   "outputs": [
    {
     "data": {
      "text/html": [
       "<ol class=list-inline>\n",
       "\t<li>2018</li>\n",
       "\t<li>2017</li>\n",
       "\t<li>2016</li>\n",
       "\t<li>2015</li>\n",
       "\t<li>1999</li>\n",
       "\t<li>1985</li>\n",
       "\t<li>1964</li>\n",
       "</ol>\n"
      ],
      "text/latex": [
       "\\begin{enumerate*}\n",
       "\\item 2018\n",
       "\\item 2017\n",
       "\\item 2016\n",
       "\\item 2015\n",
       "\\item 1999\n",
       "\\item 1985\n",
       "\\item 1964\n",
       "\\end{enumerate*}\n"
      ],
      "text/markdown": [
       "1. 2018\n",
       "2. 2017\n",
       "3. 2016\n",
       "4. 2015\n",
       "5. 1999\n",
       "6. 1985\n",
       "7. 1964\n",
       "\n",
       "\n"
      ],
      "text/plain": [
       "[1] 2018 2017 2016 2015 1999 1985 1964"
      ]
     },
     "metadata": {},
     "output_type": "display_data"
    }
   ],
   "source": [
    "sort(release_yr, decreasing=T)"
   ]
  },
  {
   "cell_type": "code",
   "execution_count": 40,
   "metadata": {},
   "outputs": [
    {
     "data": {
      "text/html": [
       "1964"
      ],
      "text/latex": [
       "1964"
      ],
      "text/markdown": [
       "1964"
      ],
      "text/plain": [
       "[1] 1964"
      ]
     },
     "metadata": {},
     "output_type": "display_data"
    },
    {
     "data": {
      "text/html": [
       "2018"
      ],
      "text/latex": [
       "2018"
      ],
      "text/markdown": [
       "2018"
      ],
      "text/plain": [
       "[1] 2018"
      ]
     },
     "metadata": {},
     "output_type": "display_data"
    }
   ],
   "source": [
    "min(release_yr)\n",
    "max(release_yr)"
   ]
  },
  {
   "cell_type": "markdown",
   "metadata": {},
   "source": [
    "### Average of Numbers"
   ]
  },
  {
   "cell_type": "code",
   "execution_count": 41,
   "metadata": {},
   "outputs": [
    {
     "data": {
      "text/html": [
       "8.4"
      ],
      "text/latex": [
       "8.4"
      ],
      "text/markdown": [
       "8.4"
      ],
      "text/plain": [
       "[1] 8.4"
      ]
     },
     "metadata": {},
     "output_type": "display_data"
    }
   ],
   "source": [
    "cost_2014 <- c(8.6,8.5,8.1)\n",
    "\n",
    "# sum results in the sum of all elements in the vector\n",
    "avg_cost_2014 <- sum(cost_2014)/3\n",
    "avg_cost_2014"
   ]
  },
  {
   "cell_type": "code",
   "execution_count": 43,
   "metadata": {},
   "outputs": [
    {
     "data": {
      "text/html": [
       "8.4"
      ],
      "text/latex": [
       "8.4"
      ],
      "text/markdown": [
       "8.4"
      ],
      "text/plain": [
       "[1] 8.4"
      ]
     },
     "metadata": {},
     "output_type": "display_data"
    }
   ],
   "source": [
    "# MEAN\n",
    "mean_cost_2014 <- mean(cost_2014)\n",
    "mean_cost_2014"
   ]
  },
  {
   "cell_type": "markdown",
   "metadata": {},
   "source": [
    "### Giving Names to values in a vector"
   ]
  },
  {
   "cell_type": "code",
   "execution_count": 46,
   "metadata": {},
   "outputs": [
    {
     "data": {
      "text/html": [
       "<dl class=dl-horizontal>\n",
       "\t<dt>The Breakfast Club</dt>\n",
       "\t\t<dd>1985</dd>\n",
       "\t<dt>American Beauty</dt>\n",
       "\t\t<dd>1999</dd>\n",
       "\t<dt>Black Swan</dt>\n",
       "\t\t<dd>2010</dd>\n",
       "\t<dt>Chicago</dt>\n",
       "\t\t<dd>2002</dd>\n",
       "</dl>\n"
      ],
      "text/latex": [
       "\\begin{description*}\n",
       "\\item[The Breakfast Club] 1985\n",
       "\\item[American Beauty] 1999\n",
       "\\item[Black Swan] 2010\n",
       "\\item[Chicago] 2002\n",
       "\\end{description*}\n"
      ],
      "text/markdown": [
       "The Breakfast Club\n",
       ":   1985American Beauty\n",
       ":   1999Black Swan\n",
       ":   2010Chicago\n",
       ":   2002\n",
       "\n"
      ],
      "text/plain": [
       "The Breakfast Club    American Beauty         Black Swan            Chicago \n",
       "              1985               1999               2010               2002 "
      ]
     },
     "metadata": {},
     "output_type": "display_data"
    }
   ],
   "source": [
    "#Creating a year vector\n",
    "release_year        <- c(1985,                 1999,  \n",
    "                         2010,           2002)\n",
    "\n",
    "#Assigning names\n",
    "names(release_year) <- c(\"The Breakfast Club\", \"American Beauty\",\n",
    "                         \"Black Swan\", \"Chicago\")\n",
    "\n",
    "release_year"
   ]
  },
  {
   "cell_type": "code",
   "execution_count": 49,
   "metadata": {},
   "outputs": [
    {
     "data": {
      "text/html": [
       "<dl class=dl-horizontal>\n",
       "\t<dt>American Beauty</dt>\n",
       "\t\t<dd>1999</dd>\n",
       "\t<dt>Chicago</dt>\n",
       "\t\t<dd>2002</dd>\n",
       "</dl>\n"
      ],
      "text/latex": [
       "\\begin{description*}\n",
       "\\item[American Beauty] 1999\n",
       "\\item[Chicago] 2002\n",
       "\\end{description*}\n"
      ],
      "text/markdown": [
       "American Beauty\n",
       ":   1999Chicago\n",
       ":   2002\n",
       "\n"
      ],
      "text/plain": [
       "American Beauty         Chicago \n",
       "           1999            2002 "
      ]
     },
     "metadata": {},
     "output_type": "display_data"
    }
   ],
   "source": [
    "release_year[c(\"American Beauty\",\"Chicago\")]"
   ]
  },
  {
   "cell_type": "code",
   "execution_count": 50,
   "metadata": {},
   "outputs": [
    {
     "data": {
      "text/html": [
       "<strong>The Breakfast Club:</strong> 2085"
      ],
      "text/latex": [
       "\\textbf{The Breakfast Club:} 2085"
      ],
      "text/markdown": [
       "**The Breakfast Club:** 2085"
      ],
      "text/plain": [
       "The Breakfast Club \n",
       "              2085 "
      ]
     },
     "metadata": {},
     "output_type": "display_data"
    }
   ],
   "source": [
    "#adding a number in year\n",
    "release_year[1] + 100 #adding 100 to the first item changes the year"
   ]
  },
  {
   "cell_type": "code",
   "execution_count": 51,
   "metadata": {},
   "outputs": [
    {
     "data": {
      "text/html": [
       "<ol class=list-inline>\n",
       "\t<li>'The Breakfast Club'</li>\n",
       "\t<li>'American Beauty'</li>\n",
       "\t<li>'Black Swan'</li>\n",
       "</ol>\n"
      ],
      "text/latex": [
       "\\begin{enumerate*}\n",
       "\\item 'The Breakfast Club'\n",
       "\\item 'American Beauty'\n",
       "\\item 'Black Swan'\n",
       "\\end{enumerate*}\n"
      ],
      "text/markdown": [
       "1. 'The Breakfast Club'\n",
       "2. 'American Beauty'\n",
       "3. 'Black Swan'\n",
       "\n",
       "\n"
      ],
      "text/plain": [
       "[1] \"The Breakfast Club\" \"American Beauty\"    \"Black Swan\"        "
      ]
     },
     "metadata": {},
     "output_type": "display_data"
    }
   ],
   "source": [
    "# retrieve the names of the vector using names()\n",
    "names(release_year)[1:3]"
   ]
  },
  {
   "cell_type": "markdown",
   "metadata": {},
   "source": [
    "### Summarizing Vectors"
   ]
  },
  {
   "cell_type": "code",
   "execution_count": 52,
   "metadata": {},
   "outputs": [
    {
     "data": {
      "text/plain": [
       "   Min. 1st Qu.  Median    Mean 3rd Qu.    Max. \n",
       "   8.10    8.30    8.50    8.40    8.55    8.60 "
      ]
     },
     "metadata": {},
     "output_type": "display_data"
    }
   ],
   "source": [
    "summary(cost_2014)"
   ]
  },
  {
   "cell_type": "markdown",
   "metadata": {},
   "source": [
    "\n",
    "\n",
    "### Using Logical operator On Vectors\n"
   ]
  },
  {
   "cell_type": "code",
   "execution_count": 54,
   "metadata": {},
   "outputs": [
    {
     "data": {
      "text/html": [
       "FALSE"
      ],
      "text/latex": [
       "FALSE"
      ],
      "text/markdown": [
       "FALSE"
      ],
      "text/plain": [
       "[1] FALSE"
      ]
     },
     "metadata": {},
     "output_type": "display_data"
    }
   ],
   "source": [
    "# Logical comparision\n",
    "movie_year <- 1997\n",
    "movie_year > 2000"
   ]
  },
  {
   "cell_type": "code",
   "execution_count": 55,
   "metadata": {},
   "outputs": [
    {
     "data": {
      "text/html": [
       "<ol class=list-inline>\n",
       "\t<li>FALSE</li>\n",
       "\t<li>FALSE</li>\n",
       "\t<li>TRUE</li>\n",
       "</ol>\n"
      ],
      "text/latex": [
       "\\begin{enumerate*}\n",
       "\\item FALSE\n",
       "\\item FALSE\n",
       "\\item TRUE\n",
       "\\end{enumerate*}\n"
      ],
      "text/markdown": [
       "1. FALSE\n",
       "2. FALSE\n",
       "3. TRUE\n",
       "\n",
       "\n"
      ],
      "text/plain": [
       "[1] FALSE FALSE  TRUE"
      ]
     },
     "metadata": {},
     "output_type": "display_data"
    }
   ],
   "source": [
    "# Logical comparision between various items\n",
    "movies_years <- c(1998, 2010, 2016)\n",
    "movies_years > 2014"
   ]
  },
  {
   "cell_type": "code",
   "execution_count": 56,
   "metadata": {},
   "outputs": [
    {
     "data": {
      "text/html": [
       "<ol class=list-inline>\n",
       "\t<li>FALSE</li>\n",
       "\t<li>FALSE</li>\n",
       "\t<li>FALSE</li>\n",
       "</ol>\n"
      ],
      "text/latex": [
       "\\begin{enumerate*}\n",
       "\\item FALSE\n",
       "\\item FALSE\n",
       "\\item FALSE\n",
       "\\end{enumerate*}\n"
      ],
      "text/markdown": [
       "1. FALSE\n",
       "2. FALSE\n",
       "3. FALSE\n",
       "\n",
       "\n"
      ],
      "text/plain": [
       "[1] FALSE FALSE FALSE"
      ]
     },
     "metadata": {},
     "output_type": "display_data"
    }
   ],
   "source": [
    "movies_years == 2015 # is equal to 2015?"
   ]
  },
  {
   "cell_type": "code",
   "execution_count": 57,
   "metadata": {},
   "outputs": [
    {
     "data": {
      "text/html": [
       "<ol class=list-inline>\n",
       "\t<li>TRUE</li>\n",
       "\t<li>TRUE</li>\n",
       "\t<li>TRUE</li>\n",
       "</ol>\n"
      ],
      "text/latex": [
       "\\begin{enumerate*}\n",
       "\\item TRUE\n",
       "\\item TRUE\n",
       "\\item TRUE\n",
       "\\end{enumerate*}\n"
      ],
      "text/markdown": [
       "1. TRUE\n",
       "2. TRUE\n",
       "3. TRUE\n",
       "\n",
       "\n"
      ],
      "text/plain": [
       "[1] TRUE TRUE TRUE"
      ]
     },
     "metadata": {},
     "output_type": "display_data"
    }
   ],
   "source": [
    "movies_years != 2015"
   ]
  },
  {
   "cell_type": "markdown",
   "metadata": {},
   "source": [
    "### Subsetting Vector"
   ]
  },
  {
   "cell_type": "code",
   "execution_count": 60,
   "metadata": {},
   "outputs": [
    {
     "data": {
      "text/html": [
       "<ol class=list-inline>\n",
       "\t<li>1985</li>\n",
       "\t<li>1999</li>\n",
       "\t<li>2002</li>\n",
       "\t<li>2010</li>\n",
       "\t<li>2012</li>\n",
       "</ol>\n"
      ],
      "text/latex": [
       "\\begin{enumerate*}\n",
       "\\item 1985\n",
       "\\item 1999\n",
       "\\item 2002\n",
       "\\item 2010\n",
       "\\item 2012\n",
       "\\end{enumerate*}\n"
      ],
      "text/markdown": [
       "1. 1985\n",
       "2. 1999\n",
       "3. 2002\n",
       "4. 2010\n",
       "5. 2012\n",
       "\n",
       "\n"
      ],
      "text/plain": [
       "[1] 1985 1999 2002 2010 2012"
      ]
     },
     "metadata": {},
     "output_type": "display_data"
    }
   ],
   "source": [
    "movie_years <- c(1985, 1999, 2002, 2010,2012)\n",
    "movie_years"
   ]
  },
  {
   "cell_type": "code",
   "execution_count": 61,
   "metadata": {},
   "outputs": [
    {
     "data": {
      "text/html": [
       "1999"
      ],
      "text/latex": [
       "1999"
      ],
      "text/markdown": [
       "1999"
      ],
      "text/plain": [
       "[1] 1999"
      ]
     },
     "metadata": {},
     "output_type": "display_data"
    }
   ],
   "source": [
    "#To retrieve the second item\n",
    "movie_years[2]"
   ]
  },
  {
   "cell_type": "code",
   "execution_count": 62,
   "metadata": {},
   "outputs": [
    {
     "data": {
      "text/html": [
       "2002"
      ],
      "text/latex": [
       "2002"
      ],
      "text/markdown": [
       "2002"
      ],
      "text/plain": [
       "[1] 2002"
      ]
     },
     "metadata": {},
     "output_type": "display_data"
    }
   ],
   "source": [
    "#To retrieve the third element\n",
    "movie_years[3]"
   ]
  },
  {
   "cell_type": "code",
   "execution_count": 63,
   "metadata": {},
   "outputs": [
    {
     "data": {
      "text/html": [
       "<ol class=list-inline>\n",
       "\t<li>1985</li>\n",
       "\t<li>1999</li>\n",
       "\t<li>2002</li>\n",
       "</ol>\n"
      ],
      "text/latex": [
       "\\begin{enumerate*}\n",
       "\\item 1985\n",
       "\\item 1999\n",
       "\\item 2002\n",
       "\\end{enumerate*}\n"
      ],
      "text/markdown": [
       "1. 1985\n",
       "2. 1999\n",
       "3. 2002\n",
       "\n",
       "\n"
      ],
      "text/plain": [
       "[1] 1985 1999 2002"
      ]
     },
     "metadata": {},
     "output_type": "display_data"
    }
   ],
   "source": [
    "#if you want to retrieve multiple items, you can pass in a vector:\n",
    "movie_years[c(1:3)]"
   ]
  },
  {
   "cell_type": "code",
   "execution_count": 64,
   "metadata": {},
   "outputs": [
    {
     "data": {
      "text/html": [
       "<ol class=list-inline>\n",
       "\t<li>1985</li>\n",
       "\t<li>2002</li>\n",
       "</ol>\n"
      ],
      "text/latex": [
       "\\begin{enumerate*}\n",
       "\\item 1985\n",
       "\\item 2002\n",
       "\\end{enumerate*}\n"
      ],
      "text/markdown": [
       "1. 1985\n",
       "2. 2002\n",
       "\n",
       "\n"
      ],
      "text/plain": [
       "[1] 1985 2002"
      ]
     },
     "metadata": {},
     "output_type": "display_data"
    }
   ],
   "source": [
    "movie_years[c(1,3)]"
   ]
  },
  {
   "cell_type": "markdown",
   "metadata": {},
   "source": [
    "#### Retrieving a vector without some of its items"
   ]
  },
  {
   "cell_type": "code",
   "execution_count": 66,
   "metadata": {},
   "outputs": [
    {
     "data": {
      "text/html": [
       "<ol class=list-inline>\n",
       "\t<li>'Jumanji'</li>\n",
       "\t<li>'City of God'</li>\n",
       "\t<li>'Toy Story'</li>\n",
       "\t<li>'Casino'</li>\n",
       "</ol>\n"
      ],
      "text/latex": [
       "\\begin{enumerate*}\n",
       "\\item 'Jumanji'\n",
       "\\item 'City of God'\n",
       "\\item 'Toy Story'\n",
       "\\item 'Casino'\n",
       "\\end{enumerate*}\n"
      ],
      "text/markdown": [
       "1. 'Jumanji'\n",
       "2. 'City of God'\n",
       "3. 'Toy Story'\n",
       "4. 'Casino'\n",
       "\n",
       "\n"
      ],
      "text/plain": [
       "[1] \"Jumanji\"     \"City of God\" \"Toy Story\"   \"Casino\"     "
      ]
     },
     "metadata": {},
     "output_type": "display_data"
    }
   ],
   "source": [
    "titles <- c(\"Black Swan\",\"Jumanji\",\"City of God\",\"Toy Story\",\"Casino\")\n",
    "titles[-1]"
   ]
  },
  {
   "cell_type": "code",
   "execution_count": 67,
   "metadata": {},
   "outputs": [
    {
     "data": {
      "text/html": [
       "<ol class=list-inline>\n",
       "\t<li>'Jumanji'</li>\n",
       "\t<li>'City of God'</li>\n",
       "\t<li>'Toy Story'</li>\n",
       "\t<li>'Casino'</li>\n",
       "</ol>\n"
      ],
      "text/latex": [
       "\\begin{enumerate*}\n",
       "\\item 'Jumanji'\n",
       "\\item 'City of God'\n",
       "\\item 'Toy Story'\n",
       "\\item 'Casino'\n",
       "\\end{enumerate*}\n"
      ],
      "text/markdown": [
       "1. 'Jumanji'\n",
       "2. 'City of God'\n",
       "3. 'Toy Story'\n",
       "4. 'Casino'\n",
       "\n",
       "\n"
      ],
      "text/plain": [
       "[1] \"Jumanji\"     \"City of God\" \"Toy Story\"   \"Casino\"     "
      ]
     },
     "metadata": {},
     "output_type": "display_data"
    }
   ],
   "source": [
    "new_titles <- titles[-1] #removes \"Black Swan\", the first item and rename\n",
    "new_titles"
   ]
  },
  {
   "cell_type": "markdown",
   "metadata": {},
   "source": [
    "#### Missing Values"
   ]
  },
  {
   "cell_type": "code",
   "execution_count": 68,
   "metadata": {},
   "outputs": [
    {
     "data": {
      "text/html": [
       "<ol class=list-inline>\n",
       "\t<li>14</li>\n",
       "\t<li>12</li>\n",
       "\t<li>10</li>\n",
       "\t<li>&lt;NA&gt;</li>\n",
       "\t<li>18</li>\n",
       "\t<li>&lt;NA&gt;</li>\n",
       "</ol>\n"
      ],
      "text/latex": [
       "\\begin{enumerate*}\n",
       "\\item 14\n",
       "\\item 12\n",
       "\\item 10\n",
       "\\item <NA>\n",
       "\\item 18\n",
       "\\item <NA>\n",
       "\\end{enumerate*}\n"
      ],
      "text/markdown": [
       "1. 14\n",
       "2. 12\n",
       "3. 10\n",
       "4. &lt;NA&gt;\n",
       "5. 18\n",
       "6. &lt;NA&gt;\n",
       "\n",
       "\n"
      ],
      "text/plain": [
       "[1] 14 12 10 NA 18 NA"
      ]
     },
     "metadata": {},
     "output_type": "display_data"
    }
   ],
   "source": [
    "age_restric <- c(14, 12, 10, NA, 18, NA)\n",
    "age_restric"
   ]
  },
  {
   "cell_type": "code",
   "execution_count": 69,
   "metadata": {},
   "outputs": [
    {
     "data": {
      "text/html": [
       "<ol class=list-inline>\n",
       "\t<li>FALSE</li>\n",
       "\t<li>FALSE</li>\n",
       "\t<li>FALSE</li>\n",
       "\t<li>TRUE</li>\n",
       "\t<li>FALSE</li>\n",
       "\t<li>TRUE</li>\n",
       "</ol>\n"
      ],
      "text/latex": [
       "\\begin{enumerate*}\n",
       "\\item FALSE\n",
       "\\item FALSE\n",
       "\\item FALSE\n",
       "\\item TRUE\n",
       "\\item FALSE\n",
       "\\item TRUE\n",
       "\\end{enumerate*}\n"
      ],
      "text/markdown": [
       "1. FALSE\n",
       "2. FALSE\n",
       "3. FALSE\n",
       "4. TRUE\n",
       "5. FALSE\n",
       "6. TRUE\n",
       "\n",
       "\n"
      ],
      "text/plain": [
       "[1] FALSE FALSE FALSE  TRUE FALSE  TRUE"
      ]
     },
     "metadata": {},
     "output_type": "display_data"
    }
   ],
   "source": [
    "is.na(age_restric) # Check if NA"
   ]
  },
  {
   "cell_type": "code",
   "execution_count": 70,
   "metadata": {},
   "outputs": [
    {
     "data": {
      "text/html": [
       "TRUE"
      ],
      "text/latex": [
       "TRUE"
      ],
      "text/markdown": [
       "TRUE"
      ],
      "text/plain": [
       "[1] TRUE"
      ]
     },
     "metadata": {},
     "output_type": "display_data"
    }
   ],
   "source": [
    "!is.na(2) # Check if not NA"
   ]
  },
  {
   "cell_type": "markdown",
   "metadata": {},
   "source": [
    "### Subsetting vectors based on a logical condition"
   ]
  },
  {
   "cell_type": "code",
   "execution_count": 71,
   "metadata": {},
   "outputs": [
    {
     "data": {
      "text/html": [
       "<dl class=dl-horizontal>\n",
       "\t<dt>The Breakfast Club</dt>\n",
       "\t\t<dd>FALSE</dd>\n",
       "\t<dt>American Beauty</dt>\n",
       "\t\t<dd>FALSE</dd>\n",
       "\t<dt>Black Swan</dt>\n",
       "\t\t<dd>TRUE</dd>\n",
       "\t<dt>Chicago</dt>\n",
       "\t\t<dd>TRUE</dd>\n",
       "</dl>\n"
      ],
      "text/latex": [
       "\\begin{description*}\n",
       "\\item[The Breakfast Club] FALSE\n",
       "\\item[American Beauty] FALSE\n",
       "\\item[Black Swan] TRUE\n",
       "\\item[Chicago] TRUE\n",
       "\\end{description*}\n"
      ],
      "text/markdown": [
       "The Breakfast Club\n",
       ":   FALSEAmerican Beauty\n",
       ":   FALSEBlack Swan\n",
       ":   TRUEChicago\n",
       ":   TRUE\n",
       "\n"
      ],
      "text/plain": [
       "The Breakfast Club    American Beauty         Black Swan            Chicago \n",
       "             FALSE              FALSE               TRUE               TRUE "
      ]
     },
     "metadata": {},
     "output_type": "display_data"
    }
   ],
   "source": [
    "release_year > 2000"
   ]
  },
  {
   "cell_type": "code",
   "execution_count": 72,
   "metadata": {},
   "outputs": [
    {
     "data": {
      "text/html": [
       "<dl class=dl-horizontal>\n",
       "\t<dt>Black Swan</dt>\n",
       "\t\t<dd>2010</dd>\n",
       "\t<dt>Chicago</dt>\n",
       "\t\t<dd>2002</dd>\n",
       "\t<dt>3</dt>\n",
       "\t\t<dd>&lt;NA&gt;</dd>\n",
       "</dl>\n"
      ],
      "text/latex": [
       "\\begin{description*}\n",
       "\\item[Black Swan] 2010\n",
       "\\item[Chicago] 2002\n",
       "\\item[3] <NA>\n",
       "\\end{description*}\n"
      ],
      "text/markdown": [
       "Black Swan\n",
       ":   2010Chicago\n",
       ":   20023\n",
       ":   &lt;NA&gt;\n",
       "\n"
      ],
      "text/plain": [
       "Black Swan    Chicago       <NA> \n",
       "      2010       2002         NA "
      ]
     },
     "metadata": {},
     "output_type": "display_data"
    }
   ],
   "source": [
    "release_year[movie_years > 2000] \n",
    "#returns a vector for elements that returned TRUE for the condition"
   ]
  },
  {
   "cell_type": "code",
   "execution_count": 73,
   "metadata": {},
   "outputs": [
    {
     "data": {
      "text/html": [
       "<dl class=dl-horizontal>\n",
       "\t<dt>The Breakfast Club</dt>\n",
       "\t\t<dd>1985</dd>\n",
       "\t<dt>American Beauty</dt>\n",
       "\t\t<dd>1999</dd>\n",
       "\t<dt>Black Swan</dt>\n",
       "\t\t<dd>2010</dd>\n",
       "\t<dt>Chicago</dt>\n",
       "\t\t<dd>2002</dd>\n",
       "</dl>\n"
      ],
      "text/latex": [
       "\\begin{description*}\n",
       "\\item[The Breakfast Club] 1985\n",
       "\\item[American Beauty] 1999\n",
       "\\item[Black Swan] 2010\n",
       "\\item[Chicago] 2002\n",
       "\\end{description*}\n"
      ],
      "text/markdown": [
       "The Breakfast Club\n",
       ":   1985American Beauty\n",
       ":   1999Black Swan\n",
       ":   2010Chicago\n",
       ":   2002\n",
       "\n"
      ],
      "text/plain": [
       "The Breakfast Club    American Beauty         Black Swan            Chicago \n",
       "              1985               1999               2010               2002 "
      ]
     },
     "metadata": {},
     "output_type": "display_data"
    },
    {
     "data": {
      "text/html": [
       "<strong>The Breakfast Club:</strong> 1985"
      ],
      "text/latex": [
       "\\textbf{The Breakfast Club:} 1985"
      ],
      "text/markdown": [
       "**The Breakfast Club:** 1985"
      ],
      "text/plain": [
       "The Breakfast Club \n",
       "              1985 "
      ]
     },
     "metadata": {},
     "output_type": "display_data"
    }
   ],
   "source": [
    "release_year\n",
    "release_year[c(T, F, F, F)] #returns the values that are TRUE"
   ]
  },
  {
   "cell_type": "markdown",
   "metadata": {},
   "source": [
    "<center><h2>Factors</h2></center>"
   ]
  },
  {
   "cell_type": "code",
   "execution_count": 75,
   "metadata": {},
   "outputs": [
    {
     "data": {
      "text/html": [
       "<ol class=list-inline>\n",
       "\t<li>'Comedy'</li>\n",
       "\t<li>'Animation'</li>\n",
       "\t<li>'Crime'</li>\n",
       "\t<li>'Comedy'</li>\n",
       "\t<li>'Animation'</li>\n",
       "</ol>\n"
      ],
      "text/latex": [
       "\\begin{enumerate*}\n",
       "\\item 'Comedy'\n",
       "\\item 'Animation'\n",
       "\\item 'Crime'\n",
       "\\item 'Comedy'\n",
       "\\item 'Animation'\n",
       "\\end{enumerate*}\n"
      ],
      "text/markdown": [
       "1. 'Comedy'\n",
       "2. 'Animation'\n",
       "3. 'Crime'\n",
       "4. 'Comedy'\n",
       "5. 'Animation'\n",
       "\n",
       "\n"
      ],
      "text/plain": [
       "[1] \"Comedy\"    \"Animation\" \"Crime\"     \"Comedy\"    \"Animation\""
      ]
     },
     "metadata": {},
     "output_type": "display_data"
    }
   ],
   "source": [
    "genre_vector <- c(\"Comedy\", \"Animation\", \"Crime\", \"Comedy\", \"Animation\")\n",
    "genre_vector"
   ]
  },
  {
   "cell_type": "code",
   "execution_count": 79,
   "metadata": {},
   "outputs": [
    {
     "data": {
      "text/html": [
       "<ol class=list-inline>\n",
       "\t<li>'Animation'</li>\n",
       "\t<li>'Comedy'</li>\n",
       "\t<li>'Crime'</li>\n",
       "</ol>\n"
      ],
      "text/latex": [
       "\\begin{enumerate*}\n",
       "\\item 'Animation'\n",
       "\\item 'Comedy'\n",
       "\\item 'Crime'\n",
       "\\end{enumerate*}\n"
      ],
      "text/markdown": [
       "1. 'Animation'\n",
       "2. 'Comedy'\n",
       "3. 'Crime'\n",
       "\n",
       "\n"
      ],
      "text/plain": [
       "[1] \"Animation\" \"Comedy\"    \"Crime\"    "
      ]
     },
     "metadata": {},
     "output_type": "display_data"
    }
   ],
   "source": [
    "genre_fact <- as.factor(genre_vector)\n",
    "levels(genre_fact)"
   ]
  },
  {
   "cell_type": "markdown",
   "metadata": {},
   "source": [
    "### Summarizing Factors"
   ]
  },
  {
   "cell_type": "code",
   "execution_count": 80,
   "metadata": {},
   "outputs": [
    {
     "data": {
      "text/html": [
       "<dl class=dl-horizontal>\n",
       "\t<dt>Animation</dt>\n",
       "\t\t<dd>2</dd>\n",
       "\t<dt>Comedy</dt>\n",
       "\t\t<dd>2</dd>\n",
       "\t<dt>Crime</dt>\n",
       "\t\t<dd>1</dd>\n",
       "</dl>\n"
      ],
      "text/latex": [
       "\\begin{description*}\n",
       "\\item[Animation] 2\n",
       "\\item[Comedy] 2\n",
       "\\item[Crime] 1\n",
       "\\end{description*}\n"
      ],
      "text/markdown": [
       "Animation\n",
       ":   2Comedy\n",
       ":   2Crime\n",
       ":   1\n",
       "\n"
      ],
      "text/plain": [
       "Animation    Comedy     Crime \n",
       "        2         2         1 "
      ]
     },
     "metadata": {},
     "output_type": "display_data"
    }
   ],
   "source": [
    "summary(genre_fact)"
   ]
  },
  {
   "cell_type": "code",
   "execution_count": 82,
   "metadata": {},
   "outputs": [
    {
     "data": {
      "text/html": [
       "<dl class=dl-horizontal>\n",
       "\t<dt>Crime</dt>\n",
       "\t\t<dd>1</dd>\n",
       "\t<dt>Animation</dt>\n",
       "\t\t<dd>2</dd>\n",
       "\t<dt>Comedy</dt>\n",
       "\t\t<dd>2</dd>\n",
       "</dl>\n"
      ],
      "text/latex": [
       "\\begin{description*}\n",
       "\\item[Crime] 1\n",
       "\\item[Animation] 2\n",
       "\\item[Comedy] 2\n",
       "\\end{description*}\n"
      ],
      "text/markdown": [
       "Crime\n",
       ":   1Animation\n",
       ":   2Comedy\n",
       ":   2\n",
       "\n"
      ],
      "text/plain": [
       "    Crime Animation    Comedy \n",
       "        1         2         2 "
      ]
     },
     "metadata": {},
     "output_type": "display_data"
    }
   ],
   "source": [
    "sort(summary(genre_fact))"
   ]
  },
  {
   "cell_type": "markdown",
   "metadata": {},
   "source": [
    "### Ordered factors"
   ]
  },
  {
   "cell_type": "code",
   "execution_count": 83,
   "metadata": {},
   "outputs": [
    {
     "data": {
      "text/html": [
       "<ol class=list-inline>\n",
       "\t<li>'Very Short'</li>\n",
       "\t<li>'Short'</li>\n",
       "\t<li>'Medium'</li>\n",
       "\t<li>'Short'</li>\n",
       "\t<li>'Long'</li>\n",
       "\t<li>'Very Short'</li>\n",
       "\t<li>'Very Long'</li>\n",
       "</ol>\n"
      ],
      "text/latex": [
       "\\begin{enumerate*}\n",
       "\\item 'Very Short'\n",
       "\\item 'Short'\n",
       "\\item 'Medium'\n",
       "\\item 'Short'\n",
       "\\item 'Long'\n",
       "\\item 'Very Short'\n",
       "\\item 'Very Long'\n",
       "\\end{enumerate*}\n"
      ],
      "text/markdown": [
       "1. 'Very Short'\n",
       "2. 'Short'\n",
       "3. 'Medium'\n",
       "4. 'Short'\n",
       "5. 'Long'\n",
       "6. 'Very Short'\n",
       "7. 'Very Long'\n",
       "\n",
       "\n"
      ],
      "text/plain": [
       "[1] \"Very Short\" \"Short\"      \"Medium\"     \"Short\"      \"Long\"      \n",
       "[6] \"Very Short\" \"Very Long\" "
      ]
     },
     "metadata": {},
     "output_type": "display_data"
    }
   ],
   "source": [
    "movie_length <- c(\"Very Short\", \"Short\", \"Medium\",\"Short\", \"Long\",\n",
    "                        \"Very Short\", \"Very Long\")\n",
    "movie_length"
   ]
  },
  {
   "cell_type": "code",
   "execution_count": 85,
   "metadata": {},
   "outputs": [
    {
     "data": {
      "text/html": [
       "<ol class=list-inline>\n",
       "\t<li>Very Short</li>\n",
       "\t<li>Short</li>\n",
       "\t<li>&lt;NA&gt;</li>\n",
       "\t<li>Short</li>\n",
       "\t<li>Long</li>\n",
       "\t<li>Very Short</li>\n",
       "\t<li>Very Long</li>\n",
       "</ol>\n",
       "\n",
       "<details>\n",
       "\t<summary style=display:list-item;cursor:pointer>\n",
       "\t\t<strong>Levels</strong>:\n",
       "\t</summary>\n",
       "\t<ol class=list-inline>\n",
       "\t\t<li>'Very Short'</li>\n",
       "\t\t<li>'Short'</li>\n",
       "\t\t<li>'Long'</li>\n",
       "\t\t<li>'Very Long'</li>\n",
       "\t</ol>\n",
       "</details>"
      ],
      "text/latex": [
       "\\begin{enumerate*}\n",
       "\\item Very Short\n",
       "\\item Short\n",
       "\\item <NA>\n",
       "\\item Short\n",
       "\\item Long\n",
       "\\item Very Short\n",
       "\\item Very Long\n",
       "\\end{enumerate*}\n",
       "\n",
       "\\emph{Levels}: \\begin{enumerate*}\n",
       "\\item 'Very Short'\n",
       "\\item 'Short'\n",
       "\\item 'Long'\n",
       "\\item 'Very Long'\n",
       "\\end{enumerate*}\n"
      ],
      "text/markdown": [
       "1. Very Short\n",
       "2. Short\n",
       "3. &lt;NA&gt;\n",
       "4. Short\n",
       "5. Long\n",
       "6. Very Short\n",
       "7. Very Long\n",
       "\n",
       "\n",
       "\n",
       "**Levels**: 1. 'Very Short'\n",
       "2. 'Short'\n",
       "3. 'Long'\n",
       "4. 'Very Long'\n",
       "\n",
       "\n"
      ],
      "text/plain": [
       "[1] Very Short Short      <NA>       Short      Long       Very Short Very Long \n",
       "Levels: Very Short < Short < Long < Very Long"
      ]
     },
     "metadata": {},
     "output_type": "display_data"
    }
   ],
   "source": [
    "movie_length_ordered <- factor(movie_length, ordered = TRUE,\n",
    "                              level = c('Very Short','Short','Long','Very Long'))\n",
    "movie_length_ordered"
   ]
  },
  {
   "cell_type": "code",
   "execution_count": 86,
   "metadata": {},
   "outputs": [
    {
     "data": {
      "text/html": [
       "<dl class=dl-horizontal>\n",
       "\t<dt>Very Short</dt>\n",
       "\t\t<dd>2</dd>\n",
       "\t<dt>Short</dt>\n",
       "\t\t<dd>2</dd>\n",
       "\t<dt>Long</dt>\n",
       "\t\t<dd>1</dd>\n",
       "\t<dt>Very Long</dt>\n",
       "\t\t<dd>1</dd>\n",
       "\t<dt>NA's</dt>\n",
       "\t\t<dd>1</dd>\n",
       "</dl>\n"
      ],
      "text/latex": [
       "\\begin{description*}\n",
       "\\item[Very Short] 2\n",
       "\\item[Short] 2\n",
       "\\item[Long] 1\n",
       "\\item[Very Long] 1\n",
       "\\item[NA's] 1\n",
       "\\end{description*}\n"
      ],
      "text/markdown": [
       "Very Short\n",
       ":   2Short\n",
       ":   2Long\n",
       ":   1Very Long\n",
       ":   1NA's\n",
       ":   1\n",
       "\n"
      ],
      "text/plain": [
       "Very Short      Short       Long  Very Long       NA's \n",
       "         2          2          1          1          1 "
      ]
     },
     "metadata": {},
     "output_type": "display_data"
    }
   ],
   "source": [
    "summary(movie_length_ordered)"
   ]
  },
  {
   "cell_type": "markdown",
   "metadata": {},
   "source": [
    "\n",
    "\n",
    "<h1 align=center>ARRAYS & MATRICES</h1> \n",
    "\n",
    "\n"
   ]
  },
  {
   "cell_type": "markdown",
   "metadata": {},
   "source": [
    "### Let's create a 4 x 3 array (4 rows, 3 columns)"
   ]
  },
  {
   "cell_type": "code",
   "execution_count": 87,
   "metadata": {
    "collapsed": true,
    "jupyter": {
     "outputs_hidden": true
    }
   },
   "outputs": [
    {
     "data": {
      "text/html": [
       "<ol class=list-inline>\n",
       "\t<li>'Akira'</li>\n",
       "\t<li>'Toy Story'</li>\n",
       "\t<li>'Room'</li>\n",
       "\t<li>'The Wave'</li>\n",
       "\t<li>'Whiplash'</li>\n",
       "\t<li>'Star Wars'</li>\n",
       "\t<li>'The Ring'</li>\n",
       "\t<li>'The Artist'</li>\n",
       "\t<li>'Jumanji'</li>\n",
       "</ol>\n"
      ],
      "text/latex": [
       "\\begin{enumerate*}\n",
       "\\item 'Akira'\n",
       "\\item 'Toy Story'\n",
       "\\item 'Room'\n",
       "\\item 'The Wave'\n",
       "\\item 'Whiplash'\n",
       "\\item 'Star Wars'\n",
       "\\item 'The Ring'\n",
       "\\item 'The Artist'\n",
       "\\item 'Jumanji'\n",
       "\\end{enumerate*}\n"
      ],
      "text/markdown": [
       "1. 'Akira'\n",
       "2. 'Toy Story'\n",
       "3. 'Room'\n",
       "4. 'The Wave'\n",
       "5. 'Whiplash'\n",
       "6. 'Star Wars'\n",
       "7. 'The Ring'\n",
       "8. 'The Artist'\n",
       "9. 'Jumanji'\n",
       "\n",
       "\n"
      ],
      "text/plain": [
       "[1] \"Akira\"      \"Toy Story\"  \"Room\"       \"The Wave\"   \"Whiplash\"  \n",
       "[6] \"Star Wars\"  \"The Ring\"   \"The Artist\" \"Jumanji\"   "
      ]
     },
     "metadata": {},
     "output_type": "display_data"
    }
   ],
   "source": [
    "#lets first create a vector of nine movies\n",
    "movie_vector <- c(\"Akira\", \"Toy Story\", \"Room\", \"The Wave\", \"Whiplash\",\n",
    "                  \"Star Wars\", \"The Ring\", \"The Artist\", \"Jumanji\")\n",
    "movie_vector"
   ]
  },
  {
   "cell_type": "code",
   "execution_count": 88,
   "metadata": {},
   "outputs": [
    {
     "data": {
      "text/html": [
       "<table>\n",
       "<tbody>\n",
       "\t<tr><td>Akira     </td><td>Whiplash  </td><td>Jumanji   </td></tr>\n",
       "\t<tr><td>Toy Story </td><td>Star Wars </td><td>Akira     </td></tr>\n",
       "\t<tr><td>Room      </td><td>The Ring  </td><td>Toy Story </td></tr>\n",
       "\t<tr><td>The Wave  </td><td>The Artist</td><td>Room      </td></tr>\n",
       "</tbody>\n",
       "</table>\n"
      ],
      "text/latex": [
       "\\begin{tabular}{lll}\n",
       "\t Akira      & Whiplash   & Jumanji   \\\\\n",
       "\t Toy Story  & Star Wars  & Akira     \\\\\n",
       "\t Room       & The Ring   & Toy Story \\\\\n",
       "\t The Wave   & The Artist & Room      \\\\\n",
       "\\end{tabular}\n"
      ],
      "text/markdown": [
       "\n",
       "| Akira      | Whiplash   | Jumanji    |\n",
       "| Toy Story  | Star Wars  | Akira      |\n",
       "| Room       | The Ring   | Toy Story  |\n",
       "| The Wave   | The Artist | Room       |\n",
       "\n"
      ],
      "text/plain": [
       "     [,1]      [,2]       [,3]     \n",
       "[1,] Akira     Whiplash   Jumanji  \n",
       "[2,] Toy Story Star Wars  Akira    \n",
       "[3,] Room      The Ring   Toy Story\n",
       "[4,] The Wave  The Artist Room     "
      ]
     },
     "metadata": {},
     "output_type": "display_data"
    }
   ],
   "source": [
    "movie_array <- array(movie_vector, dim = c(4,3))\n",
    "movie_array"
   ]
  },
  {
   "cell_type": "markdown",
   "metadata": {},
   "source": [
    "### Array Indexing"
   ]
  },
  {
   "cell_type": "code",
   "execution_count": 90,
   "metadata": {},
   "outputs": [
    {
     "data": {
      "text/html": [
       "<table>\n",
       "<tbody>\n",
       "\t<tr><td>Akira     </td><td>Whiplash  </td><td>Jumanji   </td></tr>\n",
       "\t<tr><td>Toy Story </td><td>Star Wars </td><td>Akira     </td></tr>\n",
       "\t<tr><td>Room      </td><td>The Ring  </td><td>Toy Story </td></tr>\n",
       "\t<tr><td>The Wave  </td><td>The Artist</td><td>Room      </td></tr>\n",
       "</tbody>\n",
       "</table>\n"
      ],
      "text/latex": [
       "\\begin{tabular}{lll}\n",
       "\t Akira      & Whiplash   & Jumanji   \\\\\n",
       "\t Toy Story  & Star Wars  & Akira     \\\\\n",
       "\t Room       & The Ring   & Toy Story \\\\\n",
       "\t The Wave   & The Artist & Room      \\\\\n",
       "\\end{tabular}\n"
      ],
      "text/markdown": [
       "\n",
       "| Akira      | Whiplash   | Jumanji    |\n",
       "| Toy Story  | Star Wars  | Akira      |\n",
       "| Room       | The Ring   | Toy Story  |\n",
       "| The Wave   | The Artist | Room       |\n",
       "\n"
      ],
      "text/plain": [
       "     [,1]      [,2]       [,3]     \n",
       "[1,] Akira     Whiplash   Jumanji  \n",
       "[2,] Toy Story Star Wars  Akira    \n",
       "[3,] Room      The Ring   Toy Story\n",
       "[4,] The Wave  The Artist Room     "
      ]
     },
     "metadata": {},
     "output_type": "display_data"
    }
   ],
   "source": [
    "movie_array"
   ]
  },
  {
   "cell_type": "code",
   "execution_count": 92,
   "metadata": {},
   "outputs": [
    {
     "data": {
      "text/html": [
       "'Whiplash'"
      ],
      "text/latex": [
       "'Whiplash'"
      ],
      "text/markdown": [
       "'Whiplash'"
      ],
      "text/plain": [
       "[1] \"Whiplash\""
      ]
     },
     "metadata": {},
     "output_type": "display_data"
    },
    {
     "data": {
      "text/html": [
       "<ol class=list-inline>\n",
       "\t<li>'Akira'</li>\n",
       "\t<li>'Jumanji'</li>\n",
       "</ol>\n"
      ],
      "text/latex": [
       "\\begin{enumerate*}\n",
       "\\item 'Akira'\n",
       "\\item 'Jumanji'\n",
       "\\end{enumerate*}\n"
      ],
      "text/markdown": [
       "1. 'Akira'\n",
       "2. 'Jumanji'\n",
       "\n",
       "\n"
      ],
      "text/plain": [
       "[1] \"Akira\"   \"Jumanji\""
      ]
     },
     "metadata": {},
     "output_type": "display_data"
    }
   ],
   "source": [
    "movie_array[1,2] #[row,column]\n",
    "\n",
    "movie_array[1,-2] # []"
   ]
  },
  {
   "cell_type": "code",
   "execution_count": 95,
   "metadata": {},
   "outputs": [
    {
     "data": {
      "text/html": [
       "<ol class=list-inline>\n",
       "\t<li>'Akira'</li>\n",
       "\t<li>'Whiplash'</li>\n",
       "\t<li>'Jumanji'</li>\n",
       "</ol>\n"
      ],
      "text/latex": [
       "\\begin{enumerate*}\n",
       "\\item 'Akira'\n",
       "\\item 'Whiplash'\n",
       "\\item 'Jumanji'\n",
       "\\end{enumerate*}\n"
      ],
      "text/markdown": [
       "1. 'Akira'\n",
       "2. 'Whiplash'\n",
       "3. 'Jumanji'\n",
       "\n",
       "\n"
      ],
      "text/plain": [
       "[1] \"Akira\"    \"Whiplash\" \"Jumanji\" "
      ]
     },
     "metadata": {},
     "output_type": "display_data"
    },
    {
     "data": {
      "text/html": [
       "<ol class=list-inline>\n",
       "\t<li>'Whiplash'</li>\n",
       "\t<li>'Star Wars'</li>\n",
       "\t<li>'The Ring'</li>\n",
       "\t<li>'The Artist'</li>\n",
       "</ol>\n"
      ],
      "text/latex": [
       "\\begin{enumerate*}\n",
       "\\item 'Whiplash'\n",
       "\\item 'Star Wars'\n",
       "\\item 'The Ring'\n",
       "\\item 'The Artist'\n",
       "\\end{enumerate*}\n"
      ],
      "text/markdown": [
       "1. 'Whiplash'\n",
       "2. 'Star Wars'\n",
       "3. 'The Ring'\n",
       "4. 'The Artist'\n",
       "\n",
       "\n"
      ],
      "text/plain": [
       "[1] \"Whiplash\"   \"Star Wars\"  \"The Ring\"   \"The Artist\""
      ]
     },
     "metadata": {},
     "output_type": "display_data"
    },
    {
     "data": {
      "text/html": [
       "<ol class=list-inline>\n",
       "\t<li>4</li>\n",
       "\t<li>3</li>\n",
       "</ol>\n"
      ],
      "text/latex": [
       "\\begin{enumerate*}\n",
       "\\item 4\n",
       "\\item 3\n",
       "\\end{enumerate*}\n"
      ],
      "text/markdown": [
       "1. 4\n",
       "2. 3\n",
       "\n",
       "\n"
      ],
      "text/plain": [
       "[1] 4 3"
      ]
     },
     "metadata": {},
     "output_type": "display_data"
    }
   ],
   "source": [
    "movie_array[1,]\n",
    "\n",
    "movie_array[,2]\n",
    "\n",
    "dim(movie_array)"
   ]
  },
  {
   "cell_type": "code",
   "execution_count": 2,
   "metadata": {},
   "outputs": [
    {
     "data": {
      "text/html": [
       "<table>\n",
       "<tbody>\n",
       "\t<tr><td>125</td><td> 81</td><td> 95</td></tr>\n",
       "\t<tr><td> 81</td><td>106</td><td>100</td></tr>\n",
       "\t<tr><td>118</td><td>121</td><td>104</td></tr>\n",
       "</tbody>\n",
       "</table>\n"
      ],
      "text/latex": [
       "\\begin{tabular}{lll}\n",
       "\t 125 &  81 &  95\\\\\n",
       "\t  81 & 106 & 100\\\\\n",
       "\t 118 & 121 & 104\\\\\n",
       "\\end{tabular}\n"
      ],
      "text/markdown": [
       "\n",
       "| 125 |  81 |  95 |\n",
       "|  81 | 106 | 100 |\n",
       "| 118 | 121 | 104 |\n",
       "\n"
      ],
      "text/plain": [
       "     [,1] [,2] [,3]\n",
       "[1,] 125   81   95 \n",
       "[2,]  81  106  100 \n",
       "[3,] 118  121  104 "
      ]
     },
     "metadata": {},
     "output_type": "display_data"
    }
   ],
   "source": [
    "length_vector <- c(125, 81, 118, 81, 106, 121, 95, 100, 104)\n",
    "length_array <- array(length_vector, dim = c(3,3))\n",
    "length_array"
   ]
  },
  {
   "cell_type": "code",
   "execution_count": 3,
   "metadata": {},
   "outputs": [
    {
     "data": {
      "text/html": [
       "<table>\n",
       "<tbody>\n",
       "\t<tr><td>130</td><td> 86</td><td>100</td></tr>\n",
       "\t<tr><td> 86</td><td>111</td><td>105</td></tr>\n",
       "\t<tr><td>123</td><td>126</td><td>109</td></tr>\n",
       "</tbody>\n",
       "</table>\n"
      ],
      "text/latex": [
       "\\begin{tabular}{lll}\n",
       "\t 130 &  86 & 100\\\\\n",
       "\t  86 & 111 & 105\\\\\n",
       "\t 123 & 126 & 109\\\\\n",
       "\\end{tabular}\n"
      ],
      "text/markdown": [
       "\n",
       "| 130 |  86 | 100 |\n",
       "|  86 | 111 | 105 |\n",
       "| 123 | 126 | 109 |\n",
       "\n"
      ],
      "text/plain": [
       "     [,1] [,2] [,3]\n",
       "[1,] 130   86  100 \n",
       "[2,]  86  111  105 \n",
       "[3,] 123  126  109 "
      ]
     },
     "metadata": {},
     "output_type": "display_data"
    }
   ],
   "source": [
    "length_array + 5 # added in numerical only"
   ]
  },
  {
   "cell_type": "code",
   "execution_count": 4,
   "metadata": {},
   "outputs": [
    {
     "ename": "ERROR",
     "evalue": "Error in eval(expr, envir, enclos): object 'movie_array' not found\n",
     "output_type": "error",
     "traceback": [
      "Error in eval(expr, envir, enclos): object 'movie_array' not found\nTraceback:\n"
     ]
    }
   ],
   "source": [
    "movie_array + 5 #not added in catogorical"
   ]
  },
  {
   "cell_type": "markdown",
   "metadata": {},
   "source": [
    "### Using Logical Condition to subset Array"
   ]
  },
  {
   "cell_type": "code",
   "execution_count": 5,
   "metadata": {},
   "outputs": [
    {
     "data": {
      "text/html": [
       "<table>\n",
       "<tbody>\n",
       "\t<tr><td> TRUE</td><td>FALSE</td><td>FALSE</td></tr>\n",
       "\t<tr><td>FALSE</td><td>FALSE</td><td>FALSE</td></tr>\n",
       "\t<tr><td>FALSE</td><td> TRUE</td><td>FALSE</td></tr>\n",
       "</tbody>\n",
       "</table>\n"
      ],
      "text/latex": [
       "\\begin{tabular}{lll}\n",
       "\t  TRUE & FALSE & FALSE\\\\\n",
       "\t FALSE & FALSE & FALSE\\\\\n",
       "\t FALSE &  TRUE & FALSE\\\\\n",
       "\\end{tabular}\n"
      ],
      "text/markdown": [
       "\n",
       "|  TRUE | FALSE | FALSE |\n",
       "| FALSE | FALSE | FALSE |\n",
       "| FALSE |  TRUE | FALSE |\n",
       "\n"
      ],
      "text/plain": [
       "     [,1]  [,2]  [,3] \n",
       "[1,]  TRUE FALSE FALSE\n",
       "[2,] FALSE FALSE FALSE\n",
       "[3,] FALSE  TRUE FALSE"
      ]
     },
     "metadata": {},
     "output_type": "display_data"
    }
   ],
   "source": [
    "# Movies less than 2 hrs\n",
    "mask_array <- length_array > 120\n",
    "mask_array"
   ]
  },
  {
   "cell_type": "code",
   "execution_count": 9,
   "metadata": {},
   "outputs": [
    {
     "data": {
      "text/html": [
       "<ol class=list-inline>\n",
       "\t<li>'Akira'</li>\n",
       "\t<li>'Star Wars'</li>\n",
       "</ol>\n"
      ],
      "text/latex": [
       "\\begin{enumerate*}\n",
       "\\item 'Akira'\n",
       "\\item 'Star Wars'\n",
       "\\end{enumerate*}\n"
      ],
      "text/markdown": [
       "1. 'Akira'\n",
       "2. 'Star Wars'\n",
       "\n",
       "\n"
      ],
      "text/plain": [
       "[1] \"Akira\"     \"Star Wars\""
      ]
     },
     "metadata": {},
     "output_type": "display_data"
    }
   ],
   "source": [
    "# from above subset the movie\n",
    "x_vector <- c(\"Akira\", \"Toy Story\", \"Room\", \"The Wave\", \"Whiplash\",\n",
    "              \"Star Wars\", \"The Ring\", \"The Artist\", \"Jumanji\")\n",
    "x_array <- array(x_vector, dim= c(3,3))\n",
    "                 \n",
    "x_array[mask_array]"
   ]
  },
  {
   "cell_type": "markdown",
   "metadata": {},
   "source": [
    "#                           Matrix"
   ]
  },
  {
   "cell_type": "code",
   "execution_count": 13,
   "metadata": {},
   "outputs": [
    {
     "data": {
      "text/html": [
       "<table>\n",
       "<tbody>\n",
       "\t<tr><td>Akira     </td><td>The Wave  </td><td>The Ring  </td></tr>\n",
       "\t<tr><td>Toy Story </td><td>Whiplash  </td><td>The Artist</td></tr>\n",
       "\t<tr><td>Room      </td><td>Star Wars </td><td>Jumanji   </td></tr>\n",
       "</tbody>\n",
       "</table>\n"
      ],
      "text/latex": [
       "\\begin{tabular}{lll}\n",
       "\t Akira      & The Wave   & The Ring  \\\\\n",
       "\t Toy Story  & Whiplash   & The Artist\\\\\n",
       "\t Room       & Star Wars  & Jumanji   \\\\\n",
       "\\end{tabular}\n"
      ],
      "text/markdown": [
       "\n",
       "| Akira      | The Wave   | The Ring   |\n",
       "| Toy Story  | Whiplash   | The Artist |\n",
       "| Room       | Star Wars  | Jumanji    |\n",
       "\n"
      ],
      "text/plain": [
       "     [,1]      [,2]      [,3]      \n",
       "[1,] Akira     The Wave  The Ring  \n",
       "[2,] Toy Story Whiplash  The Artist\n",
       "[3,] Room      Star Wars Jumanji   "
      ]
     },
     "metadata": {},
     "output_type": "display_data"
    }
   ],
   "source": [
    "# Create metrix\n",
    "movie_matrix <- matrix(x_vector, nrow= 3, ncol=3)\n",
    "movie_matrix"
   ]
  },
  {
   "cell_type": "markdown",
   "metadata": {},
   "source": [
    "### Accessing element of  matrix"
   ]
  },
  {
   "cell_type": "code",
   "execution_count": 15,
   "metadata": {},
   "outputs": [
    {
     "data": {
      "text/html": [
       "'Akira'"
      ],
      "text/latex": [
       "'Akira'"
      ],
      "text/markdown": [
       "'Akira'"
      ],
      "text/plain": [
       "[1] \"Akira\""
      ]
     },
     "metadata": {},
     "output_type": "display_data"
    },
    {
     "data": {
      "text/html": [
       "<table>\n",
       "<tbody>\n",
       "\t<tr><td>Toy Story</td><td>Whiplash </td></tr>\n",
       "\t<tr><td>Room     </td><td>Star Wars</td></tr>\n",
       "</tbody>\n",
       "</table>\n"
      ],
      "text/latex": [
       "\\begin{tabular}{ll}\n",
       "\t Toy Story & Whiplash \\\\\n",
       "\t Room      & Star Wars\\\\\n",
       "\\end{tabular}\n"
      ],
      "text/markdown": [
       "\n",
       "| Toy Story | Whiplash  |\n",
       "| Room      | Star Wars |\n",
       "\n"
      ],
      "text/plain": [
       "     [,1]      [,2]     \n",
       "[1,] Toy Story Whiplash \n",
       "[2,] Room      Star Wars"
      ]
     },
     "metadata": {},
     "output_type": "display_data"
    }
   ],
   "source": [
    "\n",
    "movie_matrix[1,1] \n",
    "\n",
    "#the elements from rows 2 to 3, and from columns 1 to 2.\n",
    "movie_matrix[2:3, 1:2]  # [rows,columns]"
   ]
  },
  {
   "cell_type": "markdown",
   "metadata": {},
   "source": [
    "### Concatenation Function"
   ]
  },
  {
   "cell_type": "code",
   "execution_count": 17,
   "metadata": {},
   "outputs": [
    {
     "data": {
      "text/html": [
       "<ol class=list-inline>\n",
       "\t<li>'Akira'</li>\n",
       "\t<li>'Toy Story'</li>\n",
       "\t<li>'Room'</li>\n",
       "\t<li>'The Wave'</li>\n",
       "\t<li>'Whiplash'</li>\n",
       "\t<li>'Star Wars'</li>\n",
       "\t<li>'The Ring'</li>\n",
       "\t<li>'The Artist'</li>\n",
       "\t<li>'Jumanji'</li>\n",
       "\t<li>'Fast and Furious 8'</li>\n",
       "\t<li>'xXx: Return of Xander Cage'</li>\n",
       "\t<li>'Suicide Squad'</li>\n",
       "</ol>\n"
      ],
      "text/latex": [
       "\\begin{enumerate*}\n",
       "\\item 'Akira'\n",
       "\\item 'Toy Story'\n",
       "\\item 'Room'\n",
       "\\item 'The Wave'\n",
       "\\item 'Whiplash'\n",
       "\\item 'Star Wars'\n",
       "\\item 'The Ring'\n",
       "\\item 'The Artist'\n",
       "\\item 'Jumanji'\n",
       "\\item 'Fast and Furious 8'\n",
       "\\item 'xXx: Return of Xander Cage'\n",
       "\\item 'Suicide Squad'\n",
       "\\end{enumerate*}\n"
      ],
      "text/markdown": [
       "1. 'Akira'\n",
       "2. 'Toy Story'\n",
       "3. 'Room'\n",
       "4. 'The Wave'\n",
       "5. 'Whiplash'\n",
       "6. 'Star Wars'\n",
       "7. 'The Ring'\n",
       "8. 'The Artist'\n",
       "9. 'Jumanji'\n",
       "10. 'Fast and Furious 8'\n",
       "11. 'xXx: Return of Xander Cage'\n",
       "12. 'Suicide Squad'\n",
       "\n",
       "\n"
      ],
      "text/plain": [
       " [1] \"Akira\"                      \"Toy Story\"                 \n",
       " [3] \"Room\"                       \"The Wave\"                  \n",
       " [5] \"Whiplash\"                   \"Star Wars\"                 \n",
       " [7] \"The Ring\"                   \"The Artist\"                \n",
       " [9] \"Jumanji\"                    \"Fast and Furious 8\"        \n",
       "[11] \"xXx: Return of Xander Cage\" \"Suicide Squad\"             "
      ]
     },
     "metadata": {},
     "output_type": "display_data"
    }
   ],
   "source": [
    "upcoming_movie <- c(\"Fast and Furious 8\", \"xXx: Return of Xander Cage\",\n",
    "                    \"Suicide Squad\")\n",
    "new_vector <- c(x_vector, upcoming_movie)\n",
    "new_vector"
   ]
  },
  {
   "cell_type": "markdown",
   "metadata": {},
   "source": [
    "# LIST AND DATAFRAME IN R"
   ]
  },
  {
   "cell_type": "code",
   "execution_count": 18,
   "metadata": {},
   "outputs": [
    {
     "data": {
      "text/html": [
       "<ol>\n",
       "\t<li>'Toy Story'</li>\n",
       "\t<li>1995</li>\n",
       "\t<li><ol class=list-inline>\n",
       "\t<li>'Animation'</li>\n",
       "\t<li>'Adventure'</li>\n",
       "\t<li>'Comedy'</li>\n",
       "</ol>\n",
       "</li>\n",
       "</ol>\n"
      ],
      "text/latex": [
       "\\begin{enumerate}\n",
       "\\item 'Toy Story'\n",
       "\\item 1995\n",
       "\\item \\begin{enumerate*}\n",
       "\\item 'Animation'\n",
       "\\item 'Adventure'\n",
       "\\item 'Comedy'\n",
       "\\end{enumerate*}\n",
       "\n",
       "\\end{enumerate}\n"
      ],
      "text/markdown": [
       "1. 'Toy Story'\n",
       "2. 1995\n",
       "3. 1. 'Animation'\n",
       "2. 'Adventure'\n",
       "3. 'Comedy'\n",
       "\n",
       "\n",
       "\n",
       "\n",
       "\n"
      ],
      "text/plain": [
       "[[1]]\n",
       "[1] \"Toy Story\"\n",
       "\n",
       "[[2]]\n",
       "[1] 1995\n",
       "\n",
       "[[3]]\n",
       "[1] \"Animation\" \"Adventure\" \"Comedy\"   \n"
      ]
     },
     "metadata": {},
     "output_type": "display_data"
    }
   ],
   "source": [
    "movie <- list('Toy Story', 1995, c('Animation','Adventure','Comedy'))\n",
    "movie"
   ]
  },
  {
   "cell_type": "markdown",
   "metadata": {},
   "source": [
    "### Accessing items in a list"
   ]
  },
  {
   "cell_type": "code",
   "execution_count": 20,
   "metadata": {},
   "outputs": [
    {
     "data": {
      "text/html": [
       "<ol>\n",
       "\t<li>1995</li>\n",
       "</ol>\n"
      ],
      "text/latex": [
       "\\begin{enumerate}\n",
       "\\item 1995\n",
       "\\end{enumerate}\n"
      ],
      "text/markdown": [
       "1. 1995\n",
       "\n",
       "\n"
      ],
      "text/plain": [
       "[[1]]\n",
       "[1] 1995\n"
      ]
     },
     "metadata": {},
     "output_type": "display_data"
    },
    {
     "data": {
      "text/html": [
       "<ol>\n",
       "\t<li>1995</li>\n",
       "\t<li><ol class=list-inline>\n",
       "\t<li>'Animation'</li>\n",
       "\t<li>'Adventure'</li>\n",
       "\t<li>'Comedy'</li>\n",
       "</ol>\n",
       "</li>\n",
       "</ol>\n"
      ],
      "text/latex": [
       "\\begin{enumerate}\n",
       "\\item 1995\n",
       "\\item \\begin{enumerate*}\n",
       "\\item 'Animation'\n",
       "\\item 'Adventure'\n",
       "\\item 'Comedy'\n",
       "\\end{enumerate*}\n",
       "\n",
       "\\end{enumerate}\n"
      ],
      "text/markdown": [
       "1. 1995\n",
       "2. 1. 'Animation'\n",
       "2. 'Adventure'\n",
       "3. 'Comedy'\n",
       "\n",
       "\n",
       "\n",
       "\n",
       "\n"
      ],
      "text/plain": [
       "[[1]]\n",
       "[1] 1995\n",
       "\n",
       "[[2]]\n",
       "[1] \"Animation\" \"Adventure\" \"Comedy\"   \n"
      ]
     },
     "metadata": {},
     "output_type": "display_data"
    }
   ],
   "source": [
    "movie[2]\n",
    "movie[2:3] # slicing"
   ]
  },
  {
   "cell_type": "markdown",
   "metadata": {},
   "source": [
    "### Named List"
   ]
  },
  {
   "cell_type": "code",
   "execution_count": 21,
   "metadata": {},
   "outputs": [
    {
     "data": {
      "text/html": [
       "<dl>\n",
       "\t<dt>$name</dt>\n",
       "\t\t<dd>'Toy Story'</dd>\n",
       "\t<dt>$year</dt>\n",
       "\t\t<dd>1995</dd>\n",
       "\t<dt>$genre</dt>\n",
       "\t\t<dd><ol class=list-inline>\n",
       "\t<li>'Animation'</li>\n",
       "\t<li>'Adventure'</li>\n",
       "\t<li>'Comedy'</li>\n",
       "</ol>\n",
       "</dd>\n",
       "</dl>\n"
      ],
      "text/latex": [
       "\\begin{description}\n",
       "\\item[\\$name] 'Toy Story'\n",
       "\\item[\\$year] 1995\n",
       "\\item[\\$genre] \\begin{enumerate*}\n",
       "\\item 'Animation'\n",
       "\\item 'Adventure'\n",
       "\\item 'Comedy'\n",
       "\\end{enumerate*}\n",
       "\n",
       "\\end{description}\n"
      ],
      "text/markdown": [
       "$name\n",
       ":   'Toy Story'\n",
       "$year\n",
       ":   1995\n",
       "$genre\n",
       ":   1. 'Animation'\n",
       "2. 'Adventure'\n",
       "3. 'Comedy'\n",
       "\n",
       "\n",
       "\n",
       "\n",
       "\n"
      ],
      "text/plain": [
       "$name\n",
       "[1] \"Toy Story\"\n",
       "\n",
       "$year\n",
       "[1] 1995\n",
       "\n",
       "$genre\n",
       "[1] \"Animation\" \"Adventure\" \"Comedy\"   \n"
      ]
     },
     "metadata": {},
     "output_type": "display_data"
    }
   ],
   "source": [
    "movie <- list(name= 'Toy Story',\n",
    "             year = 1995,\n",
    "             genre= c('Animation','Adventure','Comedy'))\n",
    "movie"
   ]
  },
  {
   "cell_type": "code",
   "execution_count": 22,
   "metadata": {},
   "outputs": [
    {
     "data": {
      "text/html": [
       "<ol class=list-inline>\n",
       "\t<li>'Animation'</li>\n",
       "\t<li>'Adventure'</li>\n",
       "\t<li>'Comedy'</li>\n",
       "</ol>\n"
      ],
      "text/latex": [
       "\\begin{enumerate*}\n",
       "\\item 'Animation'\n",
       "\\item 'Adventure'\n",
       "\\item 'Comedy'\n",
       "\\end{enumerate*}\n"
      ],
      "text/markdown": [
       "1. 'Animation'\n",
       "2. 'Adventure'\n",
       "3. 'Comedy'\n",
       "\n",
       "\n"
      ],
      "text/plain": [
       "[1] \"Animation\" \"Adventure\" \"Comedy\"   "
      ]
     },
     "metadata": {},
     "output_type": "display_data"
    }
   ],
   "source": [
    "movie$genre"
   ]
  },
  {
   "cell_type": "code",
   "execution_count": 23,
   "metadata": {},
   "outputs": [
    {
     "data": {
      "text/html": [
       "<strong>$genre</strong> = <ol class=list-inline>\n",
       "\t<li>'Animation'</li>\n",
       "\t<li>'Adventure'</li>\n",
       "\t<li>'Comedy'</li>\n",
       "</ol>\n"
      ],
      "text/latex": [
       "\\textbf{\\$genre} = \\begin{enumerate*}\n",
       "\\item 'Animation'\n",
       "\\item 'Adventure'\n",
       "\\item 'Comedy'\n",
       "\\end{enumerate*}\n"
      ],
      "text/markdown": [
       "**$genre** = 1. 'Animation'\n",
       "2. 'Adventure'\n",
       "3. 'Comedy'\n",
       "\n",
       "\n"
      ],
      "text/plain": [
       "$genre\n",
       "[1] \"Animation\" \"Adventure\" \"Comedy\"   \n"
      ]
     },
     "metadata": {},
     "output_type": "display_data"
    }
   ],
   "source": [
    "movie['genre']"
   ]
  },
  {
   "cell_type": "code",
   "execution_count": 24,
   "metadata": {},
   "outputs": [
    {
     "data": {
      "text/html": [
       "'character'"
      ],
      "text/latex": [
       "'character'"
      ],
      "text/markdown": [
       "'character'"
      ],
      "text/plain": [
       "[1] \"character\""
      ]
     },
     "metadata": {},
     "output_type": "display_data"
    },
    {
     "data": {
      "text/html": [
       "'NULL'"
      ],
      "text/latex": [
       "'NULL'"
      ],
      "text/markdown": [
       "'NULL'"
      ],
      "text/plain": [
       "[1] \"NULL\""
      ]
     },
     "metadata": {},
     "output_type": "display_data"
    }
   ],
   "source": [
    "class(movie$name)\n",
    "class(movie$foreign)"
   ]
  },
  {
   "cell_type": "markdown",
   "metadata": {},
   "source": [
    "### Adding, modifing and removing items"
   ]
  },
  {
   "cell_type": "code",
   "execution_count": 26,
   "metadata": {},
   "outputs": [
    {
     "data": {
      "text/html": [
       "<dl>\n",
       "\t<dt>$name</dt>\n",
       "\t\t<dd>'Toy Story'</dd>\n",
       "\t<dt>$year</dt>\n",
       "\t\t<dd>1995</dd>\n",
       "\t<dt>$genre</dt>\n",
       "\t\t<dd><ol class=list-inline>\n",
       "\t<li>'Animation'</li>\n",
       "\t<li>'Adventure'</li>\n",
       "\t<li>'Comedy'</li>\n",
       "</ol>\n",
       "</dd>\n",
       "\t<dt>$age</dt>\n",
       "\t\t<dd>5</dd>\n",
       "</dl>\n"
      ],
      "text/latex": [
       "\\begin{description}\n",
       "\\item[\\$name] 'Toy Story'\n",
       "\\item[\\$year] 1995\n",
       "\\item[\\$genre] \\begin{enumerate*}\n",
       "\\item 'Animation'\n",
       "\\item 'Adventure'\n",
       "\\item 'Comedy'\n",
       "\\end{enumerate*}\n",
       "\n",
       "\\item[\\$age] 5\n",
       "\\end{description}\n"
      ],
      "text/markdown": [
       "$name\n",
       ":   'Toy Story'\n",
       "$year\n",
       ":   1995\n",
       "$genre\n",
       ":   1. 'Animation'\n",
       "2. 'Adventure'\n",
       "3. 'Comedy'\n",
       "\n",
       "\n",
       "\n",
       "$age\n",
       ":   5\n",
       "\n",
       "\n"
      ],
      "text/plain": [
       "$name\n",
       "[1] \"Toy Story\"\n",
       "\n",
       "$year\n",
       "[1] 1995\n",
       "\n",
       "$genre\n",
       "[1] \"Animation\" \"Adventure\" \"Comedy\"   \n",
       "\n",
       "$age\n",
       "[1] 5\n"
      ]
     },
     "metadata": {},
     "output_type": "display_data"
    }
   ],
   "source": [
    "movie[['age']] <- 5\n",
    "movie"
   ]
  },
  {
   "cell_type": "code",
   "execution_count": 27,
   "metadata": {},
   "outputs": [
    {
     "data": {
      "text/html": [
       "<dl>\n",
       "\t<dt>$name</dt>\n",
       "\t\t<dd>'Toy Story'</dd>\n",
       "\t<dt>$year</dt>\n",
       "\t\t<dd>1995</dd>\n",
       "\t<dt>$genre</dt>\n",
       "\t\t<dd><ol class=list-inline>\n",
       "\t<li>'Animation'</li>\n",
       "\t<li>'Adventure'</li>\n",
       "\t<li>'Comedy'</li>\n",
       "</ol>\n",
       "</dd>\n",
       "\t<dt>$age</dt>\n",
       "\t\t<dd>6</dd>\n",
       "</dl>\n"
      ],
      "text/latex": [
       "\\begin{description}\n",
       "\\item[\\$name] 'Toy Story'\n",
       "\\item[\\$year] 1995\n",
       "\\item[\\$genre] \\begin{enumerate*}\n",
       "\\item 'Animation'\n",
       "\\item 'Adventure'\n",
       "\\item 'Comedy'\n",
       "\\end{enumerate*}\n",
       "\n",
       "\\item[\\$age] 6\n",
       "\\end{description}\n"
      ],
      "text/markdown": [
       "$name\n",
       ":   'Toy Story'\n",
       "$year\n",
       ":   1995\n",
       "$genre\n",
       ":   1. 'Animation'\n",
       "2. 'Adventure'\n",
       "3. 'Comedy'\n",
       "\n",
       "\n",
       "\n",
       "$age\n",
       ":   6\n",
       "\n",
       "\n"
      ],
      "text/plain": [
       "$name\n",
       "[1] \"Toy Story\"\n",
       "\n",
       "$year\n",
       "[1] 1995\n",
       "\n",
       "$genre\n",
       "[1] \"Animation\" \"Adventure\" \"Comedy\"   \n",
       "\n",
       "$age\n",
       "[1] 6\n"
      ]
     },
     "metadata": {},
     "output_type": "display_data"
    }
   ],
   "source": [
    "movie[['age']]<- 6\n",
    "movie"
   ]
  },
  {
   "cell_type": "code",
   "execution_count": 29,
   "metadata": {},
   "outputs": [
    {
     "data": {
      "text/html": [
       "<dl>\n",
       "\t<dt>$name</dt>\n",
       "\t\t<dd>'Toy Story'</dd>\n",
       "\t<dt>$year</dt>\n",
       "\t\t<dd>1995</dd>\n",
       "\t<dt>$genre</dt>\n",
       "\t\t<dd><ol class=list-inline>\n",
       "\t<li>'Animation'</li>\n",
       "\t<li>'Adventure'</li>\n",
       "\t<li>'Comedy'</li>\n",
       "</ol>\n",
       "</dd>\n",
       "</dl>\n"
      ],
      "text/latex": [
       "\\begin{description}\n",
       "\\item[\\$name] 'Toy Story'\n",
       "\\item[\\$year] 1995\n",
       "\\item[\\$genre] \\begin{enumerate*}\n",
       "\\item 'Animation'\n",
       "\\item 'Adventure'\n",
       "\\item 'Comedy'\n",
       "\\end{enumerate*}\n",
       "\n",
       "\\end{description}\n"
      ],
      "text/markdown": [
       "$name\n",
       ":   'Toy Story'\n",
       "$year\n",
       ":   1995\n",
       "$genre\n",
       ":   1. 'Animation'\n",
       "2. 'Adventure'\n",
       "3. 'Comedy'\n",
       "\n",
       "\n",
       "\n",
       "\n",
       "\n"
      ],
      "text/plain": [
       "$name\n",
       "[1] \"Toy Story\"\n",
       "\n",
       "$year\n",
       "[1] 1995\n",
       "\n",
       "$genre\n",
       "[1] \"Animation\" \"Adventure\" \"Comedy\"   \n"
      ]
     },
     "metadata": {},
     "output_type": "display_data"
    }
   ],
   "source": [
    "movie[['age']]<- NULL\n",
    "movie"
   ]
  },
  {
   "cell_type": "markdown",
   "metadata": {},
   "source": [
    "### Concatenating List "
   ]
  },
  {
   "cell_type": "code",
   "execution_count": 31,
   "metadata": {},
   "outputs": [
    {
     "data": {
      "text/html": [
       "<dl>\n",
       "\t<dt>$name</dt>\n",
       "\t\t<dd>'Toy Story'</dd>\n",
       "\t<dt>$year</dt>\n",
       "\t\t<dd>1995</dd>\n",
       "\t<dt>$genre</dt>\n",
       "\t\t<dd><ol class=list-inline>\n",
       "\t<li>'Animation'</li>\n",
       "\t<li>'Adventure'</li>\n",
       "\t<li>'Comedy'</li>\n",
       "</ol>\n",
       "</dd>\n",
       "</dl>\n"
      ],
      "text/latex": [
       "\\begin{description}\n",
       "\\item[\\$name] 'Toy Story'\n",
       "\\item[\\$year] 1995\n",
       "\\item[\\$genre] \\begin{enumerate*}\n",
       "\\item 'Animation'\n",
       "\\item 'Adventure'\n",
       "\\item 'Comedy'\n",
       "\\end{enumerate*}\n",
       "\n",
       "\\end{description}\n"
      ],
      "text/markdown": [
       "$name\n",
       ":   'Toy Story'\n",
       "$year\n",
       ":   1995\n",
       "$genre\n",
       ":   1. 'Animation'\n",
       "2. 'Adventure'\n",
       "3. 'Comedy'\n",
       "\n",
       "\n",
       "\n",
       "\n",
       "\n"
      ],
      "text/plain": [
       "$name\n",
       "[1] \"Toy Story\"\n",
       "\n",
       "$year\n",
       "[1] 1995\n",
       "\n",
       "$genre\n",
       "[1] \"Animation\" \"Adventure\" \"Comedy\"   \n"
      ]
     },
     "metadata": {},
     "output_type": "display_data"
    }
   ],
   "source": [
    "# We split our previous list in two sublists\n",
    "movie_part1 <- list(name = \"Toy Story\")\n",
    "movie_part2 <- list(year = 1995, genre = c(\"Animation\",\n",
    "                                           \"Adventure\", \"Comedy\"))\n",
    "movie_concatenated <- c(movie_part1, movie_part2)\n",
    "movie_concatenated"
   ]
  },
  {
   "cell_type": "markdown",
   "metadata": {},
   "source": [
    "## DataFrame"
   ]
  },
  {
   "cell_type": "code",
   "execution_count": 14,
   "metadata": {},
   "outputs": [
    {
     "data": {
      "text/html": [
       "<table>\n",
       "<thead><tr><th scope=col>name</th><th scope=col>year</th></tr></thead>\n",
       "<tbody>\n",
       "\t<tr><td>Toy Story         </td><td>1995              </td></tr>\n",
       "\t<tr><td>Akira             </td><td>1998              </td></tr>\n",
       "\t<tr><td>The Breakfast Club</td><td>1985              </td></tr>\n",
       "\t<tr><td>The Artist        </td><td>2011              </td></tr>\n",
       "\t<tr><td>Modern Times      </td><td>1936              </td></tr>\n",
       "\t<tr><td>Fight Club        </td><td>1999              </td></tr>\n",
       "\t<tr><td>City of God       </td><td>2002              </td></tr>\n",
       "\t<tr><td>The Untouchables  </td><td>1987              </td></tr>\n",
       "</tbody>\n",
       "</table>\n"
      ],
      "text/latex": [
       "\\begin{tabular}{r|ll}\n",
       " name & year\\\\\n",
       "\\hline\n",
       "\t Toy Story          & 1995              \\\\\n",
       "\t Akira              & 1998              \\\\\n",
       "\t The Breakfast Club & 1985              \\\\\n",
       "\t The Artist         & 2011              \\\\\n",
       "\t Modern Times       & 1936              \\\\\n",
       "\t Fight Club         & 1999              \\\\\n",
       "\t City of God        & 2002              \\\\\n",
       "\t The Untouchables   & 1987              \\\\\n",
       "\\end{tabular}\n"
      ],
      "text/markdown": [
       "\n",
       "| name | year |\n",
       "|---|---|\n",
       "| Toy Story          | 1995               |\n",
       "| Akira              | 1998               |\n",
       "| The Breakfast Club | 1985               |\n",
       "| The Artist         | 2011               |\n",
       "| Modern Times       | 1936               |\n",
       "| Fight Club         | 1999               |\n",
       "| City of God        | 2002               |\n",
       "| The Untouchables   | 1987               |\n",
       "\n"
      ],
      "text/plain": [
       "  name               year\n",
       "1 Toy Story          1995\n",
       "2 Akira              1998\n",
       "3 The Breakfast Club 1985\n",
       "4 The Artist         2011\n",
       "5 Modern Times       1936\n",
       "6 Fight Club         1999\n",
       "7 City of God        2002\n",
       "8 The Untouchables   1987"
      ]
     },
     "metadata": {},
     "output_type": "display_data"
    }
   ],
   "source": [
    "movies <- data.frame(name = c(\"Toy Story\", \"Akira\", \"The Breakfast Club\", \"The Artist\",\n",
    "                              \"Modern Times\", \"Fight Club\", \"City of God\", \"The Untouchables\"),\n",
    "                    year = c(1995, 1998, 1985, 2011, 1936, 1999, 2002, 1987),\n",
    "                    stringsAsFactors=F)\n",
    "movies"
   ]
  },
  {
   "cell_type": "code",
   "execution_count": 33,
   "metadata": {},
   "outputs": [
    {
     "data": {
      "text/html": [
       "<ol class=list-inline>\n",
       "\t<li>'Toy Story'</li>\n",
       "\t<li>'Akira'</li>\n",
       "\t<li>'The Breakfast Club'</li>\n",
       "\t<li>'The Artist'</li>\n",
       "\t<li>'Modern Times'</li>\n",
       "\t<li>'Fight Club'</li>\n",
       "\t<li>'City of God'</li>\n",
       "\t<li>'The Untouchables'</li>\n",
       "</ol>\n"
      ],
      "text/latex": [
       "\\begin{enumerate*}\n",
       "\\item 'Toy Story'\n",
       "\\item 'Akira'\n",
       "\\item 'The Breakfast Club'\n",
       "\\item 'The Artist'\n",
       "\\item 'Modern Times'\n",
       "\\item 'Fight Club'\n",
       "\\item 'City of God'\n",
       "\\item 'The Untouchables'\n",
       "\\end{enumerate*}\n"
      ],
      "text/markdown": [
       "1. 'Toy Story'\n",
       "2. 'Akira'\n",
       "3. 'The Breakfast Club'\n",
       "4. 'The Artist'\n",
       "5. 'Modern Times'\n",
       "6. 'Fight Club'\n",
       "7. 'City of God'\n",
       "8. 'The Untouchables'\n",
       "\n",
       "\n"
      ],
      "text/plain": [
       "[1] \"Toy Story\"          \"Akira\"              \"The Breakfast Club\"\n",
       "[4] \"The Artist\"         \"Modern Times\"       \"Fight Club\"        \n",
       "[7] \"City of God\"        \"The Untouchables\"  "
      ]
     },
     "metadata": {},
     "output_type": "display_data"
    }
   ],
   "source": [
    "movies$name"
   ]
  },
  {
   "cell_type": "code",
   "execution_count": 34,
   "metadata": {},
   "outputs": [
    {
     "data": {
      "text/html": [
       "<table>\n",
       "<thead><tr><th scope=col>name</th></tr></thead>\n",
       "<tbody>\n",
       "\t<tr><td>Toy Story         </td></tr>\n",
       "\t<tr><td>Akira             </td></tr>\n",
       "\t<tr><td>The Breakfast Club</td></tr>\n",
       "\t<tr><td>The Artist        </td></tr>\n",
       "\t<tr><td>Modern Times      </td></tr>\n",
       "\t<tr><td>Fight Club        </td></tr>\n",
       "\t<tr><td>City of God       </td></tr>\n",
       "\t<tr><td>The Untouchables  </td></tr>\n",
       "</tbody>\n",
       "</table>\n"
      ],
      "text/latex": [
       "\\begin{tabular}{r|l}\n",
       " name\\\\\n",
       "\\hline\n",
       "\t Toy Story         \\\\\n",
       "\t Akira             \\\\\n",
       "\t The Breakfast Club\\\\\n",
       "\t The Artist        \\\\\n",
       "\t Modern Times      \\\\\n",
       "\t Fight Club        \\\\\n",
       "\t City of God       \\\\\n",
       "\t The Untouchables  \\\\\n",
       "\\end{tabular}\n"
      ],
      "text/markdown": [
       "\n",
       "| name |\n",
       "|---|\n",
       "| Toy Story          |\n",
       "| Akira              |\n",
       "| The Breakfast Club |\n",
       "| The Artist         |\n",
       "| Modern Times       |\n",
       "| Fight Club         |\n",
       "| City of God        |\n",
       "| The Untouchables   |\n",
       "\n"
      ],
      "text/plain": [
       "  name              \n",
       "1 Toy Story         \n",
       "2 Akira             \n",
       "3 The Breakfast Club\n",
       "4 The Artist        \n",
       "5 Modern Times      \n",
       "6 Fight Club        \n",
       "7 City of God       \n",
       "8 The Untouchables  "
      ]
     },
     "metadata": {},
     "output_type": "display_data"
    }
   ],
   "source": [
    "movies[1]"
   ]
  },
  {
   "cell_type": "code",
   "execution_count": 35,
   "metadata": {},
   "outputs": [
    {
     "data": {
      "text/html": [
       "<table>\n",
       "<thead><tr><th></th><th scope=col>name</th><th scope=col>year</th></tr></thead>\n",
       "<tbody>\n",
       "\t<tr><th scope=row>2</th><td>Akira             </td><td>1998              </td></tr>\n",
       "\t<tr><th scope=row>3</th><td>The Breakfast Club</td><td>1985              </td></tr>\n",
       "</tbody>\n",
       "</table>\n"
      ],
      "text/latex": [
       "\\begin{tabular}{r|ll}\n",
       "  & name & year\\\\\n",
       "\\hline\n",
       "\t2 & Akira              & 1998              \\\\\n",
       "\t3 & The Breakfast Club & 1985              \\\\\n",
       "\\end{tabular}\n"
      ],
      "text/markdown": [
       "\n",
       "| <!--/--> | name | year |\n",
       "|---|---|---|\n",
       "| 2 | Akira              | 1998               |\n",
       "| 3 | The Breakfast Club | 1985               |\n",
       "\n"
      ],
      "text/plain": [
       "  name               year\n",
       "2 Akira              1998\n",
       "3 The Breakfast Club 1985"
      ]
     },
     "metadata": {},
     "output_type": "display_data"
    }
   ],
   "source": [
    "movies[2:3,1:2]"
   ]
  },
  {
   "cell_type": "code",
   "execution_count": 37,
   "metadata": {},
   "outputs": [
    {
     "name": "stdout",
     "output_type": "stream",
     "text": [
      "'data.frame':\t8 obs. of  2 variables:\n",
      " $ name: chr  \"Toy Story\" \"Akira\" \"The Breakfast Club\" \"The Artist\" ...\n",
      " $ year: num  1995 1998 1985 2011 1936 ...\n"
     ]
    }
   ],
   "source": [
    "str(movies)"
   ]
  },
  {
   "cell_type": "code",
   "execution_count": 38,
   "metadata": {},
   "outputs": [
    {
     "data": {
      "text/html": [
       "'numeric'"
      ],
      "text/latex": [
       "'numeric'"
      ],
      "text/markdown": [
       "'numeric'"
      ],
      "text/plain": [
       "[1] \"numeric\""
      ]
     },
     "metadata": {},
     "output_type": "display_data"
    }
   ],
   "source": [
    "class(movies$year)"
   ]
  },
  {
   "cell_type": "code",
   "execution_count": 39,
   "metadata": {},
   "outputs": [
    {
     "data": {
      "text/html": [
       "1995"
      ],
      "text/latex": [
       "1995"
      ],
      "text/markdown": [
       "1995"
      ],
      "text/plain": [
       "[1] 1995"
      ]
     },
     "metadata": {},
     "output_type": "display_data"
    }
   ],
   "source": [
    "movies[1,2] #[Row,column]"
   ]
  },
  {
   "cell_type": "code",
   "execution_count": 40,
   "metadata": {},
   "outputs": [
    {
     "data": {
      "text/html": [
       "<table>\n",
       "<thead><tr><th scope=col>name</th><th scope=col>year</th></tr></thead>\n",
       "<tbody>\n",
       "\t<tr><td>Toy Story         </td><td>1995              </td></tr>\n",
       "\t<tr><td>Akira             </td><td>1998              </td></tr>\n",
       "\t<tr><td>The Breakfast Club</td><td>1985              </td></tr>\n",
       "\t<tr><td>The Artist        </td><td>2011              </td></tr>\n",
       "\t<tr><td>Modern Times      </td><td>1936              </td></tr>\n",
       "\t<tr><td>Fight Club        </td><td>1999              </td></tr>\n",
       "</tbody>\n",
       "</table>\n"
      ],
      "text/latex": [
       "\\begin{tabular}{r|ll}\n",
       " name & year\\\\\n",
       "\\hline\n",
       "\t Toy Story          & 1995              \\\\\n",
       "\t Akira              & 1998              \\\\\n",
       "\t The Breakfast Club & 1985              \\\\\n",
       "\t The Artist         & 2011              \\\\\n",
       "\t Modern Times       & 1936              \\\\\n",
       "\t Fight Club         & 1999              \\\\\n",
       "\\end{tabular}\n"
      ],
      "text/markdown": [
       "\n",
       "| name | year |\n",
       "|---|---|\n",
       "| Toy Story          | 1995               |\n",
       "| Akira              | 1998               |\n",
       "| The Breakfast Club | 1985               |\n",
       "| The Artist         | 2011               |\n",
       "| Modern Times       | 1936               |\n",
       "| Fight Club         | 1999               |\n",
       "\n"
      ],
      "text/plain": [
       "  name               year\n",
       "1 Toy Story          1995\n",
       "2 Akira              1998\n",
       "3 The Breakfast Club 1985\n",
       "4 The Artist         2011\n",
       "5 Modern Times       1936\n",
       "6 Fight Club         1999"
      ]
     },
     "metadata": {},
     "output_type": "display_data"
    }
   ],
   "source": [
    "head(movies) # First five"
   ]
  },
  {
   "cell_type": "code",
   "execution_count": 41,
   "metadata": {},
   "outputs": [
    {
     "data": {
      "text/html": [
       "<table>\n",
       "<thead><tr><th></th><th scope=col>name</th><th scope=col>year</th></tr></thead>\n",
       "<tbody>\n",
       "\t<tr><th scope=row>3</th><td>The Breakfast Club</td><td>1985              </td></tr>\n",
       "\t<tr><th scope=row>4</th><td>The Artist        </td><td>2011              </td></tr>\n",
       "\t<tr><th scope=row>5</th><td>Modern Times      </td><td>1936              </td></tr>\n",
       "\t<tr><th scope=row>6</th><td>Fight Club        </td><td>1999              </td></tr>\n",
       "\t<tr><th scope=row>7</th><td>City of God       </td><td>2002              </td></tr>\n",
       "\t<tr><th scope=row>8</th><td>The Untouchables  </td><td>1987              </td></tr>\n",
       "</tbody>\n",
       "</table>\n"
      ],
      "text/latex": [
       "\\begin{tabular}{r|ll}\n",
       "  & name & year\\\\\n",
       "\\hline\n",
       "\t3 & The Breakfast Club & 1985              \\\\\n",
       "\t4 & The Artist         & 2011              \\\\\n",
       "\t5 & Modern Times       & 1936              \\\\\n",
       "\t6 & Fight Club         & 1999              \\\\\n",
       "\t7 & City of God        & 2002              \\\\\n",
       "\t8 & The Untouchables   & 1987              \\\\\n",
       "\\end{tabular}\n"
      ],
      "text/markdown": [
       "\n",
       "| <!--/--> | name | year |\n",
       "|---|---|---|\n",
       "| 3 | The Breakfast Club | 1985               |\n",
       "| 4 | The Artist         | 2011               |\n",
       "| 5 | Modern Times       | 1936               |\n",
       "| 6 | Fight Club         | 1999               |\n",
       "| 7 | City of God        | 2002               |\n",
       "| 8 | The Untouchables   | 1987               |\n",
       "\n"
      ],
      "text/plain": [
       "  name               year\n",
       "3 The Breakfast Club 1985\n",
       "4 The Artist         2011\n",
       "5 Modern Times       1936\n",
       "6 Fight Club         1999\n",
       "7 City of God        2002\n",
       "8 The Untouchables   1987"
      ]
     },
     "metadata": {},
     "output_type": "display_data"
    }
   ],
   "source": [
    "tail(movies) # Last five"
   ]
  },
  {
   "cell_type": "code",
   "execution_count": 44,
   "metadata": {},
   "outputs": [
    {
     "data": {
      "text/html": [
       "2"
      ],
      "text/latex": [
       "2"
      ],
      "text/markdown": [
       "2"
      ],
      "text/plain": [
       "[1] 2"
      ]
     },
     "metadata": {},
     "output_type": "display_data"
    }
   ],
   "source": [
    "length(movies)"
   ]
  },
  {
   "cell_type": "code",
   "execution_count": 45,
   "metadata": {},
   "outputs": [
    {
     "data": {
      "text/html": [
       "<table>\n",
       "<thead><tr><th scope=col>name</th><th scope=col>year</th><th scope=col>length</th></tr></thead>\n",
       "<tbody>\n",
       "\t<tr><td>Toy Story         </td><td>1995              </td><td> 81               </td></tr>\n",
       "\t<tr><td>Akira             </td><td>1998              </td><td>125               </td></tr>\n",
       "\t<tr><td>The Breakfast Club</td><td>1985              </td><td> 97               </td></tr>\n",
       "\t<tr><td>The Artist        </td><td>2011              </td><td>100               </td></tr>\n",
       "\t<tr><td>Modern Times      </td><td>1936              </td><td> 87               </td></tr>\n",
       "\t<tr><td>Fight Club        </td><td>1999              </td><td>139               </td></tr>\n",
       "\t<tr><td>City of God       </td><td>2002              </td><td>130               </td></tr>\n",
       "\t<tr><td>The Untouchables  </td><td>1987              </td><td>119               </td></tr>\n",
       "</tbody>\n",
       "</table>\n"
      ],
      "text/latex": [
       "\\begin{tabular}{r|lll}\n",
       " name & year & length\\\\\n",
       "\\hline\n",
       "\t Toy Story          & 1995               &  81               \\\\\n",
       "\t Akira              & 1998               & 125               \\\\\n",
       "\t The Breakfast Club & 1985               &  97               \\\\\n",
       "\t The Artist         & 2011               & 100               \\\\\n",
       "\t Modern Times       & 1936               &  87               \\\\\n",
       "\t Fight Club         & 1999               & 139               \\\\\n",
       "\t City of God        & 2002               & 130               \\\\\n",
       "\t The Untouchables   & 1987               & 119               \\\\\n",
       "\\end{tabular}\n"
      ],
      "text/markdown": [
       "\n",
       "| name | year | length |\n",
       "|---|---|---|\n",
       "| Toy Story          | 1995               |  81                |\n",
       "| Akira              | 1998               | 125                |\n",
       "| The Breakfast Club | 1985               |  97                |\n",
       "| The Artist         | 2011               | 100                |\n",
       "| Modern Times       | 1936               |  87                |\n",
       "| Fight Club         | 1999               | 139                |\n",
       "| City of God        | 2002               | 130                |\n",
       "| The Untouchables   | 1987               | 119                |\n",
       "\n"
      ],
      "text/plain": [
       "  name               year length\n",
       "1 Toy Story          1995  81   \n",
       "2 Akira              1998 125   \n",
       "3 The Breakfast Club 1985  97   \n",
       "4 The Artist         2011 100   \n",
       "5 Modern Times       1936  87   \n",
       "6 Fight Club         1999 139   \n",
       "7 City of God        2002 130   \n",
       "8 The Untouchables   1987 119   "
      ]
     },
     "metadata": {},
     "output_type": "display_data"
    }
   ],
   "source": [
    "# New Column added\n",
    "movies['length'] <- c(81, 125, 97, 100, 87, 139, 130, 119)\n",
    "movies"
   ]
  },
  {
   "cell_type": "code",
   "execution_count": 52,
   "metadata": {},
   "outputs": [
    {
     "data": {
      "text/html": [
       "<table>\n",
       "<thead><tr><th scope=col>name</th><th scope=col>year</th><th scope=col>length</th></tr></thead>\n",
       "<tbody>\n",
       "\t<tr><td>Toy Story         </td><td>1995              </td><td>81                </td></tr>\n",
       "\t<tr><td>Akira             </td><td>1998              </td><td>125               </td></tr>\n",
       "\t<tr><td>The Breakfast Club</td><td>1985              </td><td>97                </td></tr>\n",
       "\t<tr><td>The Artist        </td><td>2011              </td><td>100               </td></tr>\n",
       "\t<tr><td>Modern Times      </td><td>1936              </td><td>87                </td></tr>\n",
       "\t<tr><td>Fight Club        </td><td>1999              </td><td>139               </td></tr>\n",
       "\t<tr><td>City of God       </td><td>2002              </td><td>130               </td></tr>\n",
       "\t<tr><td>The Untouchables  </td><td>1987              </td><td>119               </td></tr>\n",
       "\t<tr><td>Dr.Strangelove    </td><td>1964              </td><td>94                </td></tr>\n",
       "\t<tr><td>Dr.Strangelove    </td><td>1964              </td><td>94                </td></tr>\n",
       "\t<tr><td>Dr.Strangelove    </td><td>1964              </td><td>94                </td></tr>\n",
       "</tbody>\n",
       "</table>\n"
      ],
      "text/latex": [
       "\\begin{tabular}{r|lll}\n",
       " name & year & length\\\\\n",
       "\\hline\n",
       "\t Toy Story          & 1995               & 81                \\\\\n",
       "\t Akira              & 1998               & 125               \\\\\n",
       "\t The Breakfast Club & 1985               & 97                \\\\\n",
       "\t The Artist         & 2011               & 100               \\\\\n",
       "\t Modern Times       & 1936               & 87                \\\\\n",
       "\t Fight Club         & 1999               & 139               \\\\\n",
       "\t City of God        & 2002               & 130               \\\\\n",
       "\t The Untouchables   & 1987               & 119               \\\\\n",
       "\t Dr.Strangelove     & 1964               & 94                \\\\\n",
       "\t Dr.Strangelove     & 1964               & 94                \\\\\n",
       "\t Dr.Strangelove     & 1964               & 94                \\\\\n",
       "\\end{tabular}\n"
      ],
      "text/markdown": [
       "\n",
       "| name | year | length |\n",
       "|---|---|---|\n",
       "| Toy Story          | 1995               | 81                 |\n",
       "| Akira              | 1998               | 125                |\n",
       "| The Breakfast Club | 1985               | 97                 |\n",
       "| The Artist         | 2011               | 100                |\n",
       "| Modern Times       | 1936               | 87                 |\n",
       "| Fight Club         | 1999               | 139                |\n",
       "| City of God        | 2002               | 130                |\n",
       "| The Untouchables   | 1987               | 119                |\n",
       "| Dr.Strangelove     | 1964               | 94                 |\n",
       "| Dr.Strangelove     | 1964               | 94                 |\n",
       "| Dr.Strangelove     | 1964               | 94                 |\n",
       "\n"
      ],
      "text/plain": [
       "   name               year length\n",
       "1  Toy Story          1995 81    \n",
       "2  Akira              1998 125   \n",
       "3  The Breakfast Club 1985 97    \n",
       "4  The Artist         2011 100   \n",
       "5  Modern Times       1936 87    \n",
       "6  Fight Club         1999 139   \n",
       "7  City of God        2002 130   \n",
       "8  The Untouchables   1987 119   \n",
       "9  Dr.Strangelove     1964 94    \n",
       "10 Dr.Strangelove     1964 94    \n",
       "11 Dr.Strangelove     1964 94    "
      ]
     },
     "metadata": {},
     "output_type": "display_data"
    }
   ],
   "source": [
    "# New Movie(row) added\n",
    "movies <- rbind(movies, c(name='Dr.Strangelove', year=1964, length=94))\n",
    "movies"
   ]
  },
  {
   "cell_type": "code",
   "execution_count": 55,
   "metadata": {},
   "outputs": [
    {
     "data": {
      "text/html": [
       "<table>\n",
       "<thead><tr><th></th><th scope=col>name</th><th scope=col>year</th><th scope=col>length</th></tr></thead>\n",
       "<tbody>\n",
       "\t<tr><th scope=row>1</th><td>Toy Story         </td><td>1995              </td><td>81                </td></tr>\n",
       "\t<tr><th scope=row>2</th><td>Akira             </td><td>1998              </td><td>125               </td></tr>\n",
       "\t<tr><th scope=row>3</th><td>The Breakfast Club</td><td>1985              </td><td>97                </td></tr>\n",
       "\t<tr><th scope=row>4</th><td>The Artist        </td><td>2011              </td><td>100               </td></tr>\n",
       "\t<tr><th scope=row>5</th><td>Modern Times      </td><td>1936              </td><td>87                </td></tr>\n",
       "\t<tr><th scope=row>6</th><td>Fight Club        </td><td>1999              </td><td>139               </td></tr>\n",
       "\t<tr><th scope=row>7</th><td>City of God       </td><td>2002              </td><td>130               </td></tr>\n",
       "\t<tr><th scope=row>8</th><td>The Untouchables  </td><td>1987              </td><td>119               </td></tr>\n",
       "\t<tr><th scope=row>9</th><td>Dr.Strangelove    </td><td>1964              </td><td>94                </td></tr>\n",
       "\t<tr><th scope=row>11</th><td>Dr.Strangelove    </td><td>1964              </td><td>94                </td></tr>\n",
       "</tbody>\n",
       "</table>\n"
      ],
      "text/latex": [
       "\\begin{tabular}{r|lll}\n",
       "  & name & year & length\\\\\n",
       "\\hline\n",
       "\t1 & Toy Story          & 1995               & 81                \\\\\n",
       "\t2 & Akira              & 1998               & 125               \\\\\n",
       "\t3 & The Breakfast Club & 1985               & 97                \\\\\n",
       "\t4 & The Artist         & 2011               & 100               \\\\\n",
       "\t5 & Modern Times       & 1936               & 87                \\\\\n",
       "\t6 & Fight Club         & 1999               & 139               \\\\\n",
       "\t7 & City of God        & 2002               & 130               \\\\\n",
       "\t8 & The Untouchables   & 1987               & 119               \\\\\n",
       "\t9 & Dr.Strangelove     & 1964               & 94                \\\\\n",
       "\t11 & Dr.Strangelove     & 1964               & 94                \\\\\n",
       "\\end{tabular}\n"
      ],
      "text/markdown": [
       "\n",
       "| <!--/--> | name | year | length |\n",
       "|---|---|---|---|\n",
       "| 1 | Toy Story          | 1995               | 81                 |\n",
       "| 2 | Akira              | 1998               | 125                |\n",
       "| 3 | The Breakfast Club | 1985               | 97                 |\n",
       "| 4 | The Artist         | 2011               | 100                |\n",
       "| 5 | Modern Times       | 1936               | 87                 |\n",
       "| 6 | Fight Club         | 1999               | 139                |\n",
       "| 7 | City of God        | 2002               | 130                |\n",
       "| 8 | The Untouchables   | 1987               | 119                |\n",
       "| 9 | Dr.Strangelove     | 1964               | 94                 |\n",
       "| 11 | Dr.Strangelove     | 1964               | 94                 |\n",
       "\n"
      ],
      "text/plain": [
       "   name               year length\n",
       "1  Toy Story          1995 81    \n",
       "2  Akira              1998 125   \n",
       "3  The Breakfast Club 1985 97    \n",
       "4  The Artist         2011 100   \n",
       "5  Modern Times       1936 87    \n",
       "6  Fight Club         1999 139   \n",
       "7  City of God        2002 130   \n",
       "8  The Untouchables   1987 119   \n",
       "9  Dr.Strangelove     1964 94    \n",
       "11 Dr.Strangelove     1964 94    "
      ]
     },
     "metadata": {},
     "output_type": "display_data"
    }
   ],
   "source": [
    "# To remove Row\n",
    "movies <- movies[-10,]\n",
    "movies"
   ]
  },
  {
   "cell_type": "code",
   "execution_count": 57,
   "metadata": {},
   "outputs": [
    {
     "data": {
      "text/html": [
       "<table>\n",
       "<thead><tr><th></th><th scope=col>name</th><th scope=col>year</th></tr></thead>\n",
       "<tbody>\n",
       "\t<tr><th scope=row>1</th><td>Toy Story         </td><td>1995              </td></tr>\n",
       "\t<tr><th scope=row>2</th><td>Akira             </td><td>1998              </td></tr>\n",
       "\t<tr><th scope=row>3</th><td>The Breakfast Club</td><td>1985              </td></tr>\n",
       "\t<tr><th scope=row>4</th><td>The Artist        </td><td>2011              </td></tr>\n",
       "\t<tr><th scope=row>5</th><td>Modern Times      </td><td>1936              </td></tr>\n",
       "\t<tr><th scope=row>6</th><td>Fight Club        </td><td>1999              </td></tr>\n",
       "\t<tr><th scope=row>7</th><td>City of God       </td><td>2002              </td></tr>\n",
       "\t<tr><th scope=row>8</th><td>The Untouchables  </td><td>1987              </td></tr>\n",
       "\t<tr><th scope=row>9</th><td>Dr.Strangelove    </td><td>1964              </td></tr>\n",
       "\t<tr><th scope=row>11</th><td>Dr.Strangelove    </td><td>1964              </td></tr>\n",
       "</tbody>\n",
       "</table>\n"
      ],
      "text/latex": [
       "\\begin{tabular}{r|ll}\n",
       "  & name & year\\\\\n",
       "\\hline\n",
       "\t1 & Toy Story          & 1995              \\\\\n",
       "\t2 & Akira              & 1998              \\\\\n",
       "\t3 & The Breakfast Club & 1985              \\\\\n",
       "\t4 & The Artist         & 2011              \\\\\n",
       "\t5 & Modern Times       & 1936              \\\\\n",
       "\t6 & Fight Club         & 1999              \\\\\n",
       "\t7 & City of God        & 2002              \\\\\n",
       "\t8 & The Untouchables   & 1987              \\\\\n",
       "\t9 & Dr.Strangelove     & 1964              \\\\\n",
       "\t11 & Dr.Strangelove     & 1964              \\\\\n",
       "\\end{tabular}\n"
      ],
      "text/markdown": [
       "\n",
       "| <!--/--> | name | year |\n",
       "|---|---|---|\n",
       "| 1 | Toy Story          | 1995               |\n",
       "| 2 | Akira              | 1998               |\n",
       "| 3 | The Breakfast Club | 1985               |\n",
       "| 4 | The Artist         | 2011               |\n",
       "| 5 | Modern Times       | 1936               |\n",
       "| 6 | Fight Club         | 1999               |\n",
       "| 7 | City of God        | 2002               |\n",
       "| 8 | The Untouchables   | 1987               |\n",
       "| 9 | Dr.Strangelove     | 1964               |\n",
       "| 11 | Dr.Strangelove     | 1964               |\n",
       "\n"
      ],
      "text/plain": [
       "   name               year\n",
       "1  Toy Story          1995\n",
       "2  Akira              1998\n",
       "3  The Breakfast Club 1985\n",
       "4  The Artist         2011\n",
       "5  Modern Times       1936\n",
       "6  Fight Club         1999\n",
       "7  City of God        2002\n",
       "8  The Untouchables   1987\n",
       "9  Dr.Strangelove     1964\n",
       "11 Dr.Strangelove     1964"
      ]
     },
     "metadata": {},
     "output_type": "display_data"
    }
   ],
   "source": [
    "# TO remove column\n",
    "movies[['length']] <- NULL\n",
    "movies"
   ]
  },
  {
   "cell_type": "markdown",
   "metadata": {},
   "source": [
    "# LOOPS AND CONDITIONS"
   ]
  },
  {
   "cell_type": "code",
   "execution_count": 58,
   "metadata": {
    "collapsed": true,
    "jupyter": {
     "outputs_hidden": true
    }
   },
   "outputs": [
    {
     "data": {
      "text/html": [
       "<h3>Data sets</h3>\n",
       "<table>\n",
       "<thead><tr><th scope=col>Package</th><th scope=col>Item</th><th scope=col>Title</th></tr></thead>\n",
       "<tbody>\n",
       "\t<tr><td>datasets                                                       </td><td>AirPassengers                                                  </td><td>Monthly Airline Passenger Numbers 1949-1960                    </td></tr>\n",
       "\t<tr><td>datasets                                                       </td><td>BJsales                                                        </td><td>Sales Data with Leading Indicator                              </td></tr>\n",
       "\t<tr><td>datasets                                                       </td><td>BJsales.lead (BJsales)                                         </td><td>Sales Data with Leading Indicator                              </td></tr>\n",
       "\t<tr><td>datasets                                                       </td><td>BOD                                                            </td><td>Biochemical Oxygen Demand                                      </td></tr>\n",
       "\t<tr><td>datasets                                                       </td><td>CO2                                                            </td><td>Carbon Dioxide Uptake in Grass Plants                          </td></tr>\n",
       "\t<tr><td>datasets                                                       </td><td>ChickWeight                                                    </td><td>Weight versus age of chicks on different diets                 </td></tr>\n",
       "\t<tr><td>datasets                                                       </td><td>DNase                                                          </td><td>Elisa assay of DNase                                           </td></tr>\n",
       "\t<tr><td>datasets                                                       </td><td>EuStockMarkets                                                 </td><td>Daily Closing Prices of Major European Stock Indices, 1991-1998</td></tr>\n",
       "\t<tr><td>datasets                                                       </td><td>Formaldehyde                                                   </td><td>Determination of Formaldehyde                                  </td></tr>\n",
       "\t<tr><td>datasets                                                       </td><td>HairEyeColor                                                   </td><td>Hair and Eye Color of Statistics Students                      </td></tr>\n",
       "\t<tr><td>datasets                                                       </td><td>Harman23.cor                                                   </td><td>Harman Example 2.3                                             </td></tr>\n",
       "\t<tr><td>datasets                                                       </td><td>Harman74.cor                                                   </td><td>Harman Example 7.4                                             </td></tr>\n",
       "\t<tr><td>datasets                                                       </td><td>Indometh                                                       </td><td>Pharmacokinetics of Indomethacin                               </td></tr>\n",
       "\t<tr><td>datasets                                                       </td><td>InsectSprays                                                   </td><td>Effectiveness of Insect Sprays                                 </td></tr>\n",
       "\t<tr><td>datasets                                                                                                   </td><td><span style=white-space:pre-wrap>JohnsonJohnson        </span>                                             </td><td><span style=white-space:pre-wrap>Quarterly Earnings per Johnson &amp; Johnson Share                 </span></td></tr>\n",
       "\t<tr><td>datasets                                                       </td><td>LakeHuron                                                      </td><td>Level of Lake Huron 1875-1972                                  </td></tr>\n",
       "\t<tr><td>datasets                                                       </td><td>LifeCycleSavings                                               </td><td>Intercountry Life-Cycle Savings Data                           </td></tr>\n",
       "\t<tr><td>datasets                                                       </td><td>Loblolly                                                       </td><td>Growth of Loblolly pine trees                                  </td></tr>\n",
       "\t<tr><td>datasets                                                       </td><td>Nile                                                           </td><td>Flow of the River Nile                                         </td></tr>\n",
       "\t<tr><td>datasets                                                       </td><td>Orange                                                         </td><td>Growth of Orange Trees                                         </td></tr>\n",
       "\t<tr><td>datasets                                                       </td><td>OrchardSprays                                                  </td><td>Potency of Orchard Sprays                                      </td></tr>\n",
       "\t<tr><td>datasets                                                       </td><td>PlantGrowth                                                    </td><td>Results from an Experiment on Plant Growth                     </td></tr>\n",
       "\t<tr><td>datasets                                                       </td><td>Puromycin                                                      </td><td>Reaction Velocity of an Enzymatic Reaction                     </td></tr>\n",
       "\t<tr><td>datasets                                                       </td><td>Seatbelts                                                      </td><td>Road Casualties in Great Britain 1969-84                       </td></tr>\n",
       "\t<tr><td>datasets                                                       </td><td>Theoph                                                         </td><td>Pharmacokinetics of Theophylline                               </td></tr>\n",
       "\t<tr><td>datasets                                                       </td><td>Titanic                                                        </td><td>Survival of passengers on the Titanic                          </td></tr>\n",
       "\t<tr><td>datasets                                                       </td><td>ToothGrowth                                                    </td><td>The Effect of Vitamin C on Tooth Growth in Guinea Pigs         </td></tr>\n",
       "\t<tr><td>datasets                                                       </td><td>UCBAdmissions                                                  </td><td>Student Admissions at UC Berkeley                              </td></tr>\n",
       "\t<tr><td>datasets                                                       </td><td>UKDriverDeaths                                                 </td><td>Road Casualties in Great Britain 1969-84                       </td></tr>\n",
       "\t<tr><td>datasets                                                       </td><td>UKgas                                                          </td><td>UK Quarterly Gas Consumption                                   </td></tr>\n",
       "\t<tr><td>datasets                                                       </td><td>USAccDeaths                                                    </td><td>Accidental Deaths in the US 1973-1978                          </td></tr>\n",
       "\t<tr><td>datasets                                                       </td><td>USArrests                                                      </td><td>Violent Crime Rates by US State                                </td></tr>\n",
       "\t<tr><td>datasets                                                       </td><td>USJudgeRatings                                                 </td><td>Lawyers' Ratings of State Judges in the US Superior Court      </td></tr>\n",
       "\t<tr><td>datasets                                                       </td><td>USPersonalExpenditure                                          </td><td>Personal Expenditure Data                                      </td></tr>\n",
       "\t<tr><td>datasets                                                       </td><td>UScitiesD                                                      </td><td>Distances Between European Cities and Between US Cities        </td></tr>\n",
       "\t<tr><td>datasets                                                       </td><td>VADeaths                                                       </td><td>Death Rates in Virginia (1940)                                 </td></tr>\n",
       "\t<tr><td>datasets                                                       </td><td>WWWusage                                                       </td><td>Internet Usage per Minute                                      </td></tr>\n",
       "\t<tr><td>datasets                                                       </td><td>WorldPhones                                                    </td><td>The World's Telephones                                         </td></tr>\n",
       "\t<tr><td>datasets                                                       </td><td>ability.cov                                                    </td><td>Ability and Intelligence Tests                                 </td></tr>\n",
       "\t<tr><td>datasets                                                       </td><td>airmiles                                                       </td><td>Passenger Miles on Commercial US Airlines, 1937-1960           </td></tr>\n",
       "\t<tr><td>datasets                                                       </td><td>airquality                                                     </td><td>New York Air Quality Measurements                              </td></tr>\n",
       "\t<tr><td>datasets                                                       </td><td>anscombe                                                       </td><td>Anscombe's Quartet of 'Identical' Simple Linear Regressions    </td></tr>\n",
       "\t<tr><td>datasets                                                       </td><td>attenu                                                         </td><td>The Joyner-Boore Attenuation Data                              </td></tr>\n",
       "\t<tr><td>datasets                                                       </td><td>attitude                                                       </td><td>The Chatterjee-Price Attitude Data                             </td></tr>\n",
       "\t<tr><td>datasets                                                       </td><td>austres                                                        </td><td>Quarterly Time Series of the Number of Australian Residents    </td></tr>\n",
       "\t<tr><td>datasets                                                       </td><td>beaver1 (beavers)                                              </td><td>Body Temperature Series of Two Beavers                         </td></tr>\n",
       "\t<tr><td>datasets                                                       </td><td>beaver2 (beavers)                                              </td><td>Body Temperature Series of Two Beavers                         </td></tr>\n",
       "\t<tr><td>datasets                                                       </td><td>cars                                                           </td><td>Speed and Stopping Distances of Cars                           </td></tr>\n",
       "\t<tr><td>datasets                                                       </td><td>chickwts                                                       </td><td>Chicken Weights by Feed Type                                   </td></tr>\n",
       "\t<tr><td>datasets                                                       </td><td>co2                                                            </td><td>Mauna Loa Atmospheric CO2 Concentration                        </td></tr>\n",
       "\t<tr><td>datasets                                                       </td><td>crimtab                                                        </td><td>Student's 3000 Criminals Data                                  </td></tr>\n",
       "\t<tr><td>datasets                                                       </td><td>discoveries                                                    </td><td>Yearly Numbers of Important Discoveries                        </td></tr>\n",
       "\t<tr><td>datasets                                                       </td><td>esoph                                                          </td><td>Smoking, Alcohol and (O)esophageal Cancer                      </td></tr>\n",
       "\t<tr><td>datasets                                                       </td><td>euro                                                           </td><td>Conversion Rates of Euro Currencies                            </td></tr>\n",
       "\t<tr><td>datasets                                                       </td><td>euro.cross (euro)                                              </td><td>Conversion Rates of Euro Currencies                            </td></tr>\n",
       "\t<tr><td>datasets                                                       </td><td>eurodist                                                       </td><td>Distances Between European Cities and Between US Cities        </td></tr>\n",
       "\t<tr><td>datasets                                                       </td><td>faithful                                                       </td><td>Old Faithful Geyser Data                                       </td></tr>\n",
       "\t<tr><td>datasets                                                       </td><td>fdeaths (UKLungDeaths)                                         </td><td>Monthly Deaths from Lung Diseases in the UK                    </td></tr>\n",
       "\t<tr><td>datasets                                                       </td><td>freeny                                                         </td><td>Freeny's Revenue Data                                          </td></tr>\n",
       "\t<tr><td>datasets                                                       </td><td>freeny.x (freeny)                                              </td><td>Freeny's Revenue Data                                          </td></tr>\n",
       "\t<tr><td>datasets                                                       </td><td>freeny.y (freeny)                                              </td><td>Freeny's Revenue Data                                          </td></tr>\n",
       "\t<tr><td>datasets                                                       </td><td>infert                                                         </td><td>Infertility after Spontaneous and Induced Abortion             </td></tr>\n",
       "\t<tr><td>datasets                                                       </td><td>iris                                                           </td><td>Edgar Anderson's Iris Data                                     </td></tr>\n",
       "\t<tr><td>datasets                                                       </td><td>iris3                                                          </td><td>Edgar Anderson's Iris Data                                     </td></tr>\n",
       "\t<tr><td>datasets                                                       </td><td>islands                                                        </td><td>Areas of the World's Major Landmasses                          </td></tr>\n",
       "\t<tr><td>datasets                                                       </td><td>ldeaths (UKLungDeaths)                                         </td><td>Monthly Deaths from Lung Diseases in the UK                    </td></tr>\n",
       "\t<tr><td>datasets                                                       </td><td>lh                                                             </td><td>Luteinizing Hormone in Blood Samples                           </td></tr>\n",
       "\t<tr><td>datasets                                                       </td><td>longley                                                        </td><td>Longley's Economic Regression Data                             </td></tr>\n",
       "\t<tr><td>datasets                                                       </td><td>lynx                                                           </td><td>Annual Canadian Lynx trappings 1821-1934                       </td></tr>\n",
       "\t<tr><td>datasets                                                       </td><td>mdeaths (UKLungDeaths)                                         </td><td>Monthly Deaths from Lung Diseases in the UK                    </td></tr>\n",
       "\t<tr><td>datasets                                                       </td><td>morley                                                         </td><td>Michelson Speed of Light Data                                  </td></tr>\n",
       "\t<tr><td>datasets                                                       </td><td>mtcars                                                         </td><td>Motor Trend Car Road Tests                                     </td></tr>\n",
       "\t<tr><td>datasets                                                       </td><td>nhtemp                                                         </td><td>Average Yearly Temperatures in New Haven                       </td></tr>\n",
       "\t<tr><td>datasets                                                       </td><td>nottem                                                         </td><td>Average Monthly Temperatures at Nottingham, 1920-1939          </td></tr>\n",
       "\t<tr><td>datasets                                                       </td><td>npk                                                            </td><td>Classical N, P, K Factorial Experiment                         </td></tr>\n",
       "\t<tr><td>datasets                                                       </td><td>occupationalStatus                                             </td><td>Occupational Status of Fathers and their Sons                  </td></tr>\n",
       "\t<tr><td>datasets                                                       </td><td>precip                                                         </td><td>Annual Precipitation in US Cities                              </td></tr>\n",
       "\t<tr><td>datasets                                                       </td><td>presidents                                                     </td><td>Quarterly Approval Ratings of US Presidents                    </td></tr>\n",
       "\t<tr><td>datasets                                                       </td><td>pressure                                                       </td><td>Vapor Pressure of Mercury as a Function of Temperature         </td></tr>\n",
       "\t<tr><td>datasets                                                       </td><td>quakes                                                         </td><td>Locations of Earthquakes off Fiji                              </td></tr>\n",
       "\t<tr><td>datasets                                                       </td><td>randu                                                          </td><td>Random Numbers from Congruential Generator RANDU               </td></tr>\n",
       "\t<tr><td>datasets                                                       </td><td>rivers                                                         </td><td>Lengths of Major North American Rivers                         </td></tr>\n",
       "\t<tr><td>datasets                                                       </td><td>rock                                                           </td><td>Measurements on Petroleum Rock Samples                         </td></tr>\n",
       "\t<tr><td>datasets                                                       </td><td>sleep                                                          </td><td>Student's Sleep Data                                           </td></tr>\n",
       "\t<tr><td>datasets                                                       </td><td>stack.loss (stackloss)                                         </td><td>Brownlee's Stack Loss Plant Data                               </td></tr>\n",
       "\t<tr><td>datasets                                                       </td><td>stack.x (stackloss)                                            </td><td>Brownlee's Stack Loss Plant Data                               </td></tr>\n",
       "\t<tr><td>datasets                                                       </td><td>stackloss                                                      </td><td>Brownlee's Stack Loss Plant Data                               </td></tr>\n",
       "\t<tr><td>datasets                                                       </td><td>state.abb (state)                                              </td><td>US State Facts and Figures                                     </td></tr>\n",
       "\t<tr><td>datasets                                                       </td><td>state.area (state)                                             </td><td>US State Facts and Figures                                     </td></tr>\n",
       "\t<tr><td>datasets                                                       </td><td>state.center (state)                                           </td><td>US State Facts and Figures                                     </td></tr>\n",
       "\t<tr><td>datasets                                                       </td><td>state.division (state)                                         </td><td>US State Facts and Figures                                     </td></tr>\n",
       "\t<tr><td>datasets                                                       </td><td>state.name (state)                                             </td><td>US State Facts and Figures                                     </td></tr>\n",
       "\t<tr><td>datasets                                                       </td><td>state.region (state)                                           </td><td>US State Facts and Figures                                     </td></tr>\n",
       "\t<tr><td>datasets                                                       </td><td>state.x77 (state)                                              </td><td>US State Facts and Figures                                     </td></tr>\n",
       "\t<tr><td>datasets                                                       </td><td>sunspot.month                                                  </td><td>Monthly Sunspot Data, from 1749 to \"Present\"                   </td></tr>\n",
       "\t<tr><td>datasets                                                       </td><td>sunspot.year                                                   </td><td>Yearly Sunspot Data, 1700-1988                                 </td></tr>\n",
       "\t<tr><td>datasets                                                       </td><td>sunspots                                                       </td><td>Monthly Sunspot Numbers, 1749-1983                             </td></tr>\n",
       "\t<tr><td>datasets                                                       </td><td>swiss                                                          </td><td>Swiss Fertility and Socioeconomic Indicators (1888) Data       </td></tr>\n",
       "\t<tr><td>datasets                                                       </td><td>treering                                                       </td><td>Yearly Treering Data, -6000-1979                               </td></tr>\n",
       "\t<tr><td>datasets                                                       </td><td>trees                                                          </td><td>Diameter, Height and Volume for Black Cherry Trees             </td></tr>\n",
       "\t<tr><td>datasets                                                       </td><td>uspop                                                          </td><td>Populations Recorded by the US Census                          </td></tr>\n",
       "\t<tr><td>datasets                                                       </td><td>volcano                                                        </td><td>Topographic Information on Auckland's Maunga Whau Volcano      </td></tr>\n",
       "\t<tr><td>datasets                                                       </td><td>warpbreaks                                                     </td><td>The Number of Breaks in Yarn during Weaving                    </td></tr>\n",
       "\t<tr><td>datasets                                                       </td><td>women                                                          </td><td>Average Heights and Weights for American Women                 </td></tr>\n",
       "</tbody>\n",
       "</table>\n",
       "\n",
       "<p>Use 'data(package = .packages(all.available = TRUE))'\n",
       "to list the data sets in all *available* packages.</p>"
      ],
      "text/plain": [
       "Data sets in package 'datasets':\n",
       "\n",
       "AirPassengers           Monthly Airline Passenger Numbers 1949-1960\n",
       "BJsales                 Sales Data with Leading Indicator\n",
       "BJsales.lead (BJsales)\n",
       "                        Sales Data with Leading Indicator\n",
       "BOD                     Biochemical Oxygen Demand\n",
       "CO2                     Carbon Dioxide Uptake in Grass Plants\n",
       "ChickWeight             Weight versus age of chicks on different diets\n",
       "DNase                   Elisa assay of DNase\n",
       "EuStockMarkets          Daily Closing Prices of Major European Stock\n",
       "                        Indices, 1991-1998\n",
       "Formaldehyde            Determination of Formaldehyde\n",
       "HairEyeColor            Hair and Eye Color of Statistics Students\n",
       "Harman23.cor            Harman Example 2.3\n",
       "Harman74.cor            Harman Example 7.4\n",
       "Indometh                Pharmacokinetics of Indomethacin\n",
       "InsectSprays            Effectiveness of Insect Sprays\n",
       "JohnsonJohnson          Quarterly Earnings per Johnson & Johnson Share\n",
       "LakeHuron               Level of Lake Huron 1875-1972\n",
       "LifeCycleSavings        Intercountry Life-Cycle Savings Data\n",
       "Loblolly                Growth of Loblolly pine trees\n",
       "Nile                    Flow of the River Nile\n",
       "Orange                  Growth of Orange Trees\n",
       "OrchardSprays           Potency of Orchard Sprays\n",
       "PlantGrowth             Results from an Experiment on Plant Growth\n",
       "Puromycin               Reaction Velocity of an Enzymatic Reaction\n",
       "Seatbelts               Road Casualties in Great Britain 1969-84\n",
       "Theoph                  Pharmacokinetics of Theophylline\n",
       "Titanic                 Survival of passengers on the Titanic\n",
       "ToothGrowth             The Effect of Vitamin C on Tooth Growth in\n",
       "                        Guinea Pigs\n",
       "UCBAdmissions           Student Admissions at UC Berkeley\n",
       "UKDriverDeaths          Road Casualties in Great Britain 1969-84\n",
       "UKgas                   UK Quarterly Gas Consumption\n",
       "USAccDeaths             Accidental Deaths in the US 1973-1978\n",
       "USArrests               Violent Crime Rates by US State\n",
       "USJudgeRatings          Lawyers' Ratings of State Judges in the US\n",
       "                        Superior Court\n",
       "USPersonalExpenditure   Personal Expenditure Data\n",
       "UScitiesD               Distances Between European Cities and Between\n",
       "                        US Cities\n",
       "VADeaths                Death Rates in Virginia (1940)\n",
       "WWWusage                Internet Usage per Minute\n",
       "WorldPhones             The World's Telephones\n",
       "ability.cov             Ability and Intelligence Tests\n",
       "airmiles                Passenger Miles on Commercial US Airlines,\n",
       "                        1937-1960\n",
       "airquality              New York Air Quality Measurements\n",
       "anscombe                Anscombe's Quartet of 'Identical' Simple Linear\n",
       "                        Regressions\n",
       "attenu                  The Joyner-Boore Attenuation Data\n",
       "attitude                The Chatterjee-Price Attitude Data\n",
       "austres                 Quarterly Time Series of the Number of\n",
       "                        Australian Residents\n",
       "beaver1 (beavers)       Body Temperature Series of Two Beavers\n",
       "beaver2 (beavers)       Body Temperature Series of Two Beavers\n",
       "cars                    Speed and Stopping Distances of Cars\n",
       "chickwts                Chicken Weights by Feed Type\n",
       "co2                     Mauna Loa Atmospheric CO2 Concentration\n",
       "crimtab                 Student's 3000 Criminals Data\n",
       "discoveries             Yearly Numbers of Important Discoveries\n",
       "esoph                   Smoking, Alcohol and (O)esophageal Cancer\n",
       "euro                    Conversion Rates of Euro Currencies\n",
       "euro.cross (euro)       Conversion Rates of Euro Currencies\n",
       "eurodist                Distances Between European Cities and Between\n",
       "                        US Cities\n",
       "faithful                Old Faithful Geyser Data\n",
       "fdeaths (UKLungDeaths)\n",
       "                        Monthly Deaths from Lung Diseases in the UK\n",
       "freeny                  Freeny's Revenue Data\n",
       "freeny.x (freeny)       Freeny's Revenue Data\n",
       "freeny.y (freeny)       Freeny's Revenue Data\n",
       "infert                  Infertility after Spontaneous and Induced\n",
       "                        Abortion\n",
       "iris                    Edgar Anderson's Iris Data\n",
       "iris3                   Edgar Anderson's Iris Data\n",
       "islands                 Areas of the World's Major Landmasses\n",
       "ldeaths (UKLungDeaths)\n",
       "                        Monthly Deaths from Lung Diseases in the UK\n",
       "lh                      Luteinizing Hormone in Blood Samples\n",
       "longley                 Longley's Economic Regression Data\n",
       "lynx                    Annual Canadian Lynx trappings 1821-1934\n",
       "mdeaths (UKLungDeaths)\n",
       "                        Monthly Deaths from Lung Diseases in the UK\n",
       "morley                  Michelson Speed of Light Data\n",
       "mtcars                  Motor Trend Car Road Tests\n",
       "nhtemp                  Average Yearly Temperatures in New Haven\n",
       "nottem                  Average Monthly Temperatures at Nottingham,\n",
       "                        1920-1939\n",
       "npk                     Classical N, P, K Factorial Experiment\n",
       "occupationalStatus      Occupational Status of Fathers and their Sons\n",
       "precip                  Annual Precipitation in US Cities\n",
       "presidents              Quarterly Approval Ratings of US Presidents\n",
       "pressure                Vapor Pressure of Mercury as a Function of\n",
       "                        Temperature\n",
       "quakes                  Locations of Earthquakes off Fiji\n",
       "randu                   Random Numbers from Congruential Generator\n",
       "                        RANDU\n",
       "rivers                  Lengths of Major North American Rivers\n",
       "rock                    Measurements on Petroleum Rock Samples\n",
       "sleep                   Student's Sleep Data\n",
       "stack.loss (stackloss)\n",
       "                        Brownlee's Stack Loss Plant Data\n",
       "stack.x (stackloss)     Brownlee's Stack Loss Plant Data\n",
       "stackloss               Brownlee's Stack Loss Plant Data\n",
       "state.abb (state)       US State Facts and Figures\n",
       "state.area (state)      US State Facts and Figures\n",
       "state.center (state)    US State Facts and Figures\n",
       "state.division (state)\n",
       "                        US State Facts and Figures\n",
       "state.name (state)      US State Facts and Figures\n",
       "state.region (state)    US State Facts and Figures\n",
       "state.x77 (state)       US State Facts and Figures\n",
       "sunspot.month           Monthly Sunspot Data, from 1749 to \"Present\"\n",
       "sunspot.year            Yearly Sunspot Data, 1700-1988\n",
       "sunspots                Monthly Sunspot Numbers, 1749-1983\n",
       "swiss                   Swiss Fertility and Socioeconomic Indicators\n",
       "                        (1888) Data\n",
       "treering                Yearly Treering Data, -6000-1979\n",
       "trees                   Diameter, Height and Volume for Black Cherry\n",
       "                        Trees\n",
       "uspop                   Populations Recorded by the US Census\n",
       "volcano                 Topographic Information on Auckland's Maunga\n",
       "                        Whau Volcano\n",
       "warpbreaks              The Number of Breaks in Yarn during Weaving\n",
       "women                   Average Heights and Weights for American Women\n",
       "\n",
       "Use 'data(package = .packages(all.available = TRUE))'\n",
       "to list the data sets in all *available* packages."
      ]
     },
     "metadata": {},
     "output_type": "display_data"
    }
   ],
   "source": [
    "data()"
   ]
  },
  {
   "cell_type": "code",
   "execution_count": null,
   "metadata": {},
   "outputs": [],
   "source": [
    "# Control statements : o control what pieces of the program are to be executed at certain times. \n",
    "# Conditional statements and Loops are the control statements that are able to change the execution flow.\n"
   ]
  },
  {
   "cell_type": "markdown",
   "metadata": {},
   "source": [
    "### Conditional Statements"
   ]
  },
  {
   "cell_type": "markdown",
   "metadata": {},
   "source": [
    "### If Statements"
   ]
  },
  {
   "cell_type": "code",
   "execution_count": 62,
   "metadata": {},
   "outputs": [
    {
     "name": "stdout",
     "output_type": "stream",
     "text": [
      "[1] \"Movie year is greater than 2000\"\n"
     ]
    }
   ],
   "source": [
    "movie_yr = 2002\n",
    "if(movie_yr > 2000){\n",
    "    print(\"Movie year is greater than 2000\")\n",
    "}"
   ]
  },
  {
   "cell_type": "code",
   "execution_count": 65,
   "metadata": {},
   "outputs": [
    {
     "name": "stdin",
     "output_type": "stream",
     "text": [
      "Please enter no. 2002\n"
     ]
    },
    {
     "name": "stdout",
     "output_type": "stream",
     "text": [
      "[1] \"Movie year is greater than 2000\"\n"
     ]
    }
   ],
   "source": [
    "movie_yr <- readline(\"Please enter no.\")\n",
    "if(movie_yr > 2000){\n",
    "    print(\"Movie year is greater than 2000\")\n",
    "}else{\n",
    "    print(\"Movie year is not greater than 2000\")\n",
    "}"
   ]
  },
  {
   "cell_type": "code",
   "execution_count": 72,
   "metadata": {},
   "outputs": [
    {
     "name": "stdout",
     "output_type": "stream",
     "text": [
      "[1] \"Movie year between 2000 and 1990\"\n",
      "[1] \"Movie year is not between 2010 and 2000\"\n"
     ]
    }
   ],
   "source": [
    "# By using comparision and Logical operator\n",
    "movie_yr = 1997\n",
    "if (movie_yr < 2000 & movie_yr > 1990){\n",
    "    print(\"Movie year between 2000 and 1990\")\n",
    "}\n",
    "\n",
    "if (movie_yr > 2010 | movie_yr < 2000){\n",
    "    print(\"Movie year is not between 2010 and 2000\")\n",
    "}"
   ]
  },
  {
   "cell_type": "markdown",
   "metadata": {},
   "source": [
    "### Subset"
   ]
  },
  {
   "cell_type": "code",
   "execution_count": 75,
   "metadata": {},
   "outputs": [
    {
     "data": {
      "text/html": [
       "<table>\n",
       "<thead><tr><th></th><th scope=col>name</th><th scope=col>year</th></tr></thead>\n",
       "<tbody>\n",
       "\t<tr><th scope=row>4</th><td>The Artist </td><td>2011       </td></tr>\n",
       "\t<tr><th scope=row>7</th><td>City of God</td><td>2002       </td></tr>\n",
       "</tbody>\n",
       "</table>\n"
      ],
      "text/latex": [
       "\\begin{tabular}{r|ll}\n",
       "  & name & year\\\\\n",
       "\\hline\n",
       "\t4 & The Artist  & 2011       \\\\\n",
       "\t7 & City of God & 2002       \\\\\n",
       "\\end{tabular}\n"
      ],
      "text/markdown": [
       "\n",
       "| <!--/--> | name | year |\n",
       "|---|---|---|\n",
       "| 4 | The Artist  | 2011        |\n",
       "| 7 | City of God | 2002        |\n",
       "\n"
      ],
      "text/plain": [
       "  name        year\n",
       "4 The Artist  2011\n",
       "7 City of God 2002"
      ]
     },
     "metadata": {},
     "output_type": "display_data"
    }
   ],
   "source": [
    "decade = \"recent\"\n",
    "\n",
    "if (decade == \"recent\"){\n",
    "    subset(movies,year >= 2000)\n",
    "    ## Subset the dataset to include only movies after year 2000.\n",
    "    }else{\n",
    "    # If not..# Subset the dataset to include only movies before 2000.\n",
    "    subset(movies, year < 2000)\n",
    "}"
   ]
  },
  {
   "cell_type": "code",
   "execution_count": 83,
   "metadata": {},
   "outputs": [
    {
     "data": {
      "text/html": [
       "<table>\n",
       "<thead><tr><th></th><th scope=col>name</th><th scope=col>year</th></tr></thead>\n",
       "<tbody>\n",
       "\t<tr><th scope=row>1</th><td>Toy Story  </td><td>1995       </td></tr>\n",
       "\t<tr><th scope=row>2</th><td>Akira      </td><td>1998       </td></tr>\n",
       "\t<tr><th scope=row>4</th><td>The Artist </td><td>2011       </td></tr>\n",
       "\t<tr><th scope=row>6</th><td>Fight Club </td><td>1999       </td></tr>\n",
       "\t<tr><th scope=row>7</th><td>City of God</td><td>2002       </td></tr>\n",
       "</tbody>\n",
       "</table>\n"
      ],
      "text/latex": [
       "\\begin{tabular}{r|ll}\n",
       "  & name & year\\\\\n",
       "\\hline\n",
       "\t1 & Toy Story   & 1995       \\\\\n",
       "\t2 & Akira       & 1998       \\\\\n",
       "\t4 & The Artist  & 2011       \\\\\n",
       "\t6 & Fight Club  & 1999       \\\\\n",
       "\t7 & City of God & 2002       \\\\\n",
       "\\end{tabular}\n"
      ],
      "text/markdown": [
       "\n",
       "| <!--/--> | name | year |\n",
       "|---|---|---|\n",
       "| 1 | Toy Story   | 1995        |\n",
       "| 2 | Akira       | 1998        |\n",
       "| 4 | The Artist  | 2011        |\n",
       "| 6 | Fight Club  | 1999        |\n",
       "| 7 | City of God | 2002        |\n",
       "\n"
      ],
      "text/plain": [
       "  name        year\n",
       "1 Toy Story   1995\n",
       "2 Akira       1998\n",
       "4 The Artist  2011\n",
       "6 Fight Club  1999\n",
       "7 City of God 2002"
      ]
     },
     "metadata": {},
     "output_type": "display_data"
    }
   ],
   "source": [
    "decade = 'new'\n",
    "if(decade == 'new'){\n",
    "    subset(movies,year >= 1990)\n",
    "}else{\n",
    "    subset(movies, year > 1990)\n",
    "}"
   ]
  },
  {
   "cell_type": "markdown",
   "metadata": {},
   "source": [
    "### Loops "
   ]
  },
  {
   "cell_type": "code",
   "execution_count": 3,
   "metadata": {},
   "outputs": [
    {
     "name": "stdout",
     "output_type": "stream",
     "text": [
      "[1] 1995 1998 1985 2011 1936 1999 2002 1987\n"
     ]
    }
   ],
   "source": [
    "# FOR Loops\n",
    "# execute this once for every row in my dataset,column\n",
    "years <- movies['year']\n",
    "\n",
    "for (val in years){\n",
    "    print(val)\n",
    "}"
   ]
  },
  {
   "cell_type": "code",
   "execution_count": 17,
   "metadata": {},
   "outputs": [
    {
     "name": "stderr",
     "output_type": "stream",
     "text": [
      "Warning message in if (years > 2000) {:\n",
      "\"the condition has length > 1 and only the first element will be used\""
     ]
    },
    {
     "name": "stdout",
     "output_type": "stream",
     "text": [
      "[1] \"Movie is old\"\n"
     ]
    }
   ],
   "source": [
    "year <- movies['year']\n",
    "for (years in year){\n",
    "    if (years > 2000){\n",
    "        print('Movie is Recent')\n",
    "    } else {\n",
    "        print('Movie is old')\n",
    "    }\n",
    "}"
   ]
  },
  {
   "cell_type": "code",
   "execution_count": 10,
   "metadata": {},
   "outputs": [
    {
     "name": "stdout",
     "output_type": "stream",
     "text": [
      "[1] \"This is iteration number :\" \"1\"                         \n",
      "[1] \"Toy Story\"\n",
      "[1] \"This is iteration number :\" \"2\"                         \n",
      "[1] \"Akira\"\n",
      "[1] \"This is iteration number :\" \"3\"                         \n",
      "[1] \"The Breakfast Club\"\n",
      "[1] \"This is iteration number :\" \"4\"                         \n",
      "[1] \"The Artist\"\n",
      "[1] \"This is iteration number :\" \"5\"                         \n",
      "[1] \"Modern Times\"\n"
     ]
    }
   ],
   "source": [
    "# While Loop\n",
    "# if we don't know when we want to stop the loop?\n",
    "# Creating start point\n",
    "iteration = 1\n",
    "while (iteration <= 5){\n",
    "    print(c('This is iteration number :',as.character(iteration)))\n",
    "    print(movies[iteration,]$name)\n",
    "    iteration = iteration + 1\n",
    "}\n"
   ]
  },
  {
   "cell_type": "code",
   "execution_count": null,
   "metadata": {},
   "outputs": [],
   "source": [
    "iteration = movies['year']\n",
    "while(iteration <= 2000){\n",
    "    print('Movie is old')\n",
    "    iteration = movies['year']\n",
    "}"
   ]
  },
  {
   "cell_type": "markdown",
   "metadata": {},
   "source": [
    "### Applying Functions to Vectors"
   ]
  },
  {
   "cell_type": "code",
   "execution_count": 11,
   "metadata": {},
   "outputs": [
    {
     "data": {
      "text/html": [
       "<ol class=list-inline>\n",
       "\t<li>12</li>\n",
       "\t<li>14</li>\n",
       "\t<li>17</li>\n",
       "\t<li>21</li>\n",
       "\t<li>27</li>\n",
       "\t<li>35</li>\n",
       "</ol>\n"
      ],
      "text/latex": [
       "\\begin{enumerate*}\n",
       "\\item 12\n",
       "\\item 14\n",
       "\\item 17\n",
       "\\item 21\n",
       "\\item 27\n",
       "\\item 35\n",
       "\\end{enumerate*}\n"
      ],
      "text/markdown": [
       "1. 12\n",
       "2. 14\n",
       "3. 17\n",
       "4. 21\n",
       "5. 27\n",
       "6. 35\n",
       "\n",
       "\n"
      ],
      "text/plain": [
       "[1] 12 14 17 21 27 35"
      ]
     },
     "metadata": {},
     "output_type": "display_data"
    },
    {
     "data": {
      "text/html": [
       "<ol class=list-inline>\n",
       "\t<li>100</li>\n",
       "\t<li>144</li>\n",
       "\t<li>225</li>\n",
       "\t<li>361</li>\n",
       "\t<li>625</li>\n",
       "\t<li>1089</li>\n",
       "</ol>\n"
      ],
      "text/latex": [
       "\\begin{enumerate*}\n",
       "\\item 100\n",
       "\\item 144\n",
       "\\item 225\n",
       "\\item 361\n",
       "\\item 625\n",
       "\\item 1089\n",
       "\\end{enumerate*}\n"
      ],
      "text/markdown": [
       "1. 100\n",
       "2. 144\n",
       "3. 225\n",
       "4. 361\n",
       "5. 625\n",
       "6. 1089\n",
       "\n",
       "\n"
      ],
      "text/plain": [
       "[1]  100  144  225  361  625 1089"
      ]
     },
     "metadata": {},
     "output_type": "display_data"
    },
    {
     "data": {
      "text/html": [
       "<ol class=list-inline>\n",
       "\t<li>20</li>\n",
       "\t<li>24</li>\n",
       "\t<li>30</li>\n",
       "\t<li>38</li>\n",
       "\t<li>50</li>\n",
       "\t<li>66</li>\n",
       "</ol>\n"
      ],
      "text/latex": [
       "\\begin{enumerate*}\n",
       "\\item 20\n",
       "\\item 24\n",
       "\\item 30\n",
       "\\item 38\n",
       "\\item 50\n",
       "\\item 66\n",
       "\\end{enumerate*}\n"
      ],
      "text/markdown": [
       "1. 20\n",
       "2. 24\n",
       "3. 30\n",
       "4. 38\n",
       "5. 50\n",
       "6. 66\n",
       "\n",
       "\n"
      ],
      "text/plain": [
       "[1] 20 24 30 38 50 66"
      ]
     },
     "metadata": {},
     "output_type": "display_data"
    }
   ],
   "source": [
    "# First, we create a vector...\n",
    "my_list <- c(10,12,15,19,25,33)\n",
    "\n",
    "# ...we can try adding two to all the values in that vector.\n",
    "my_list + 2\n",
    "\n",
    "# Or maybe even exponentiating them by two.\n",
    "my_list ** 2\n",
    "\n",
    "# We can also sum two vectors element-wise!\n",
    "my_list + my_list"
   ]
  },
  {
   "cell_type": "markdown",
   "metadata": {},
   "source": [
    "# WRITING YOUR OWN CUSTOM FUNCTIONS IN R"
   ]
  },
  {
   "cell_type": "markdown",
   "metadata": {},
   "source": [
    "# two types of functions :\n",
    "\n",
    "1.Pre-defined functions\n",
    "\n",
    "2.User defined functions"
   ]
  },
  {
   "cell_type": "code",
   "execution_count": 1,
   "metadata": {},
   "outputs": [
    {
     "data": {
      "text/html": [
       "8.03333333333333"
      ],
      "text/latex": [
       "8.03333333333333"
      ],
      "text/markdown": [
       "8.03333333333333"
      ],
      "text/plain": [
       "[1] 8.033333"
      ]
     },
     "metadata": {},
     "output_type": "display_data"
    }
   ],
   "source": [
    "ratings <- c(8.7, 6.9, 8.5)\n",
    "mean(ratings)"
   ]
  },
  {
   "cell_type": "code",
   "execution_count": 2,
   "metadata": {},
   "outputs": [
    {
     "data": {
      "text/html": [
       "<ol class=list-inline>\n",
       "\t<li>6.9</li>\n",
       "\t<li>8.5</li>\n",
       "\t<li>8.7</li>\n",
       "</ol>\n"
      ],
      "text/latex": [
       "\\begin{enumerate*}\n",
       "\\item 6.9\n",
       "\\item 8.5\n",
       "\\item 8.7\n",
       "\\end{enumerate*}\n"
      ],
      "text/markdown": [
       "1. 6.9\n",
       "2. 8.5\n",
       "3. 8.7\n",
       "\n",
       "\n"
      ],
      "text/plain": [
       "[1] 6.9 8.5 8.7"
      ]
     },
     "metadata": {},
     "output_type": "display_data"
    }
   ],
   "source": [
    "sort(ratings)"
   ]
  },
  {
   "cell_type": "code",
   "execution_count": 3,
   "metadata": {},
   "outputs": [
    {
     "data": {
      "text/html": [
       "<ol class=list-inline>\n",
       "\t<li>8.7</li>\n",
       "\t<li>8.5</li>\n",
       "\t<li>6.9</li>\n",
       "</ol>\n"
      ],
      "text/latex": [
       "\\begin{enumerate*}\n",
       "\\item 8.7\n",
       "\\item 8.5\n",
       "\\item 6.9\n",
       "\\end{enumerate*}\n"
      ],
      "text/markdown": [
       "1. 8.7\n",
       "2. 8.5\n",
       "3. 6.9\n",
       "\n",
       "\n"
      ],
      "text/plain": [
       "[1] 8.7 8.5 6.9"
      ]
     },
     "metadata": {},
     "output_type": "display_data"
    }
   ],
   "source": [
    "sort(ratings,decreasing = T)"
   ]
  },
  {
   "cell_type": "markdown",
   "metadata": {},
   "source": [
    "### User Define Function"
   ]
  },
  {
   "cell_type": "code",
   "execution_count": 8,
   "metadata": {},
   "outputs": [
    {
     "name": "stdout",
     "output_type": "stream",
     "text": [
      "[1] \"Hello World\"\n"
     ]
    }
   ],
   "source": [
    "printHelloWorld <- function(){\n",
    "    print('Hello World')\n",
    "}\n",
    "printHelloWorld()"
   ]
  },
  {
   "cell_type": "code",
   "execution_count": 9,
   "metadata": {},
   "outputs": [
    {
     "data": {
      "text/html": [
       "7"
      ],
      "text/latex": [
       "7"
      ],
      "text/markdown": [
       "7"
      ],
      "text/plain": [
       "[1] 7"
      ]
     },
     "metadata": {},
     "output_type": "display_data"
    }
   ],
   "source": [
    "add <- function(x,y){\n",
    "    x+y\n",
    "}\n",
    "add(3,4)"
   ]
  },
  {
   "cell_type": "code",
   "execution_count": null,
   "metadata": {},
   "outputs": [],
   "source": [
    "function(arguments){\n",
    "    Do something\n",
    "    Do something\n",
    "    return(some_output)\n",
    "}"
   ]
  },
  {
   "cell_type": "markdown",
   "metadata": {},
   "source": [
    "### Explicitly returning outputs in user-defined functions"
   ]
  },
  {
   "cell_type": "code",
   "execution_count": 12,
   "metadata": {},
   "outputs": [
    {
     "data": {
      "text/html": [
       "7"
      ],
      "text/latex": [
       "7"
      ],
      "text/markdown": [
       "7"
      ],
      "text/plain": [
       "[1] 7"
      ]
     },
     "metadata": {},
     "output_type": "display_data"
    }
   ],
   "source": [
    "add <- function(x,y){\n",
    "    return(x+y)\n",
    "}\n",
    "add(3,4)"
   ]
  },
  {
   "cell_type": "markdown",
   "metadata": {},
   "source": [
    "### Using IF/ELSE statements in functions"
   ]
  },
  {
   "cell_type": "code",
   "execution_count": null,
   "metadata": {},
   "outputs": [],
   "source": [
    "isGoodRating <- function(rating, threashold = 7){\n",
    "    if (rating < threahold){\n",
    "        return('NO')\n",
    "    } else {\n",
    "        return('YES')\n",
    "    }\n",
    "}\n",
    "isGoodRating(6)\n",
    "isGoodRating(9.5)"
   ]
  },
  {
   "cell_type": "code",
   "execution_count": null,
   "metadata": {},
   "outputs": [],
   "source": [
    "isGoodRating(8,threashold=8.5)\n",
    "isGoodRating(8. 8.5)"
   ]
  },
  {
   "cell_type": "code",
   "execution_count": null,
   "metadata": {},
   "outputs": [],
   "source": [
    "my_data <- read.csv(\"movies-db.csv\")\n",
    "head(my_data)"
   ]
  },
  {
   "cell_type": "code",
   "execution_count": null,
   "metadata": {},
   "outputs": [],
   "source": [
    "akira <- my_data[data$name=='a']"
   ]
  },
  {
   "cell_type": "code",
   "execution_count": null,
   "metadata": {},
   "outputs": [],
   "source": []
  },
  {
   "cell_type": "code",
   "execution_count": null,
   "metadata": {},
   "outputs": [],
   "source": []
  }
 ],
 "metadata": {
  "kernelspec": {
   "display_name": "Python 3",
   "language": "python",
   "name": "python3"
  },
  "language_info": {
   "codemirror_mode": {
    "name": "ipython",
    "version": 3
   },
   "file_extension": ".py",
   "mimetype": "text/x-python",
   "name": "python",
   "nbconvert_exporter": "python",
   "pygments_lexer": "ipython3",
   "version": "3.7.6"
  }
 },
 "nbformat": 4,
 "nbformat_minor": 4
}
